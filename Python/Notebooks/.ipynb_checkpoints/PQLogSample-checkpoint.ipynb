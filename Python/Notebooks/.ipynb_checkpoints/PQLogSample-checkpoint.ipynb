{
 "cells": [
  {
   "cell_type": "markdown",
   "metadata": {},
   "source": [
    "# Intersect common `QID`s from all three logs and sample `n` conversations from the common qids"
   ]
  },
  {
   "cell_type": "code",
   "execution_count": 8,
   "metadata": {
    "ExecuteTime": {
     "end_time": "2020-04-24T02:17:25.536247Z",
     "start_time": "2020-04-24T02:17:25.529336Z"
    }
   },
   "outputs": [],
   "source": [
    "import pandas as pd\n",
    "import csv \n",
    "import sys\n",
    "import numpy as np"
   ]
  },
  {
   "cell_type": "code",
   "execution_count": 2,
   "metadata": {
    "ExecuteTime": {
     "end_time": "2020-04-24T02:15:31.614614Z",
     "start_time": "2020-04-24T02:15:31.578481Z"
    }
   },
   "outputs": [],
   "source": [
    "\n",
    "def read_synthlog(file_name, nrows=None):\n",
    "    if file_name.endswith('gz'):\n",
    "        compression = 'gzip'\n",
    "    else :\n",
    "        compression = None\n",
    "    \n",
    "    synth_df = pd.read_csv(file_name, sep='\\t', compression=compression,\n",
    "                            names=['prefix_str', 'query_id'],\n",
    "                            nrows=nrows, quoting=csv.QUOTE_NONE)\n",
    "    synth_df.dropna(subset=['prefix_str'], inplace=True)\n",
    "    synth_df['prefix_len'] = synth_df.prefix_str.str.len()\n",
    "    return synth_df[~(synth_df.prefix_len == 0)]\n",
    "\n",
    "def find_synth_end(synth_log):\n",
    "    \"\"\" Return a dataframe containing only the last interaction from each \n",
    "    conversation in synth_log.\n",
    "    \"\"\"\n",
    "    end_df = synth_log.index.to_series().groupby(\n",
    "                            synth_log['query_id']).last().reset_index(name='end_idx')\n",
    "    synth_end = synth_log[synth_log.index.isin(end_df.end_idx)]\n",
    "    return synth_end\n",
    "\n",
    "def load_synthlog(file_name, nrows=None):\n",
    "    synth_log = read_synthlog(file_name, nrows)\n",
    "    synth_end = find_synth_end(synth_log)\n",
    "    return synth_log, synth_end\n",
    "\n",
    "def print_basic_stats(log_df, log_end):\n",
    "    print(\"Number of conversations: \", len(log_end))\n",
    "    print(\"Number of interactions: \", len(log_df))\n",
    "    # conv_lendf = conversation_lengths(log_df)\n",
    "    # print(\"Median length of conversations: \", conv_lendf.conv_len.median())\n",
    "    # print(\"Median length of partial queries \", log_df.prefix_len.median())\n",
    "    print(\"Partial query lengths stats\\n\", log_df.prefix_len.describe())\n",
    "    print(\"Unique partial queries: \", len(log_df.prefix_str.unique()))\n",
    "    print(\"Unique final partial queries: \", len(log_end.prefix_str.unique()))\n",
    "\n"
   ]
  },
  {
   "cell_type": "code",
   "execution_count": 3,
   "metadata": {
    "ExecuteTime": {
     "end_time": "2020-04-24T02:15:31.695592Z",
     "start_time": "2020-04-24T02:15:31.621143Z"
    }
   },
   "outputs": [],
   "source": [
    "nrows = 1000\n",
    "\n",
    "bing_log, bing_end = load_synthlog('../../../synth_log/data/wiki-synthlog.tsv', nrows=nrows)\n",
    "wikisynth, wiki_end = load_synthlog('../../../synth_log/data/wiki-synthlog.tsv', nrows=nrows)\n",
    "cwebsynth, cweb_end = load_synthlog('../../../synth_log/data/cweb-synthlog.tsv', nrows=nrows)\n"
   ]
  },
  {
   "cell_type": "code",
   "execution_count": 4,
   "metadata": {
    "ExecuteTime": {
     "end_time": "2020-04-24T02:15:31.736379Z",
     "start_time": "2020-04-24T02:15:31.701741Z"
    },
    "scrolled": true
   },
   "outputs": [
    {
     "name": "stdout",
     "output_type": "stream",
     "text": [
      "Basic BingLog stats\n",
      "========================================\n",
      "('Number of conversations: ', 176)\n",
      "('Number of interactions: ', 990)\n",
      "('Partial query lengths stats\\n', count    990.000000\n",
      "mean       8.379798\n",
      "std        7.541137\n",
      "min        1.000000\n",
      "25%        3.000000\n",
      "50%        6.000000\n",
      "75%       12.000000\n",
      "max       61.000000\n",
      "Name: prefix_len, dtype: float64)\n",
      "('Unique partial queries: ', 861)\n",
      "('Unique final partial queries: ', 172)\n",
      "\n",
      "\n",
      "Basic WikiSynth stats\n",
      "========================================\n",
      "('Number of conversations: ', 176)\n",
      "('Number of interactions: ', 990)\n",
      "('Partial query lengths stats\\n', count    990.000000\n",
      "mean       8.379798\n",
      "std        7.541137\n",
      "min        1.000000\n",
      "25%        3.000000\n",
      "50%        6.000000\n",
      "75%       12.000000\n",
      "max       61.000000\n",
      "Name: prefix_len, dtype: float64)\n",
      "('Unique partial queries: ', 861)\n",
      "('Unique final partial queries: ', 172)\n",
      "\n",
      "\n",
      "Basic CwebSynth stats\n",
      "========================================\n",
      "('Number of conversations: ', 176)\n",
      "('Number of interactions: ', 990)\n",
      "('Partial query lengths stats\\n', count    990.000000\n",
      "mean       8.379798\n",
      "std        7.541137\n",
      "min        1.000000\n",
      "25%        3.000000\n",
      "50%        6.000000\n",
      "75%       12.000000\n",
      "max       61.000000\n",
      "Name: prefix_len, dtype: float64)\n",
      "('Unique partial queries: ', 859)\n",
      "('Unique final partial queries: ', 173)\n"
     ]
    }
   ],
   "source": [
    "print(\"Basic BingLog stats\")\n",
    "print(\"=\"*40)\n",
    "print_basic_stats(bing_log, bing_end)\n",
    "print(\"\\n\\nBasic WikiSynth stats\")\n",
    "print(\"=\"*40)\n",
    "print_basic_stats(wikisynth, wiki_end)\n",
    "print(\"\\n\\nBasic CwebSynth stats\")\n",
    "print(\"=\"*40)\n",
    "print_basic_stats(cwebsynth, cweb_end)"
   ]
  },
  {
   "cell_type": "markdown",
   "metadata": {},
   "source": [
    "## Find intersection of qids"
   ]
  },
  {
   "cell_type": "code",
   "execution_count": 5,
   "metadata": {
    "ExecuteTime": {
     "end_time": "2020-04-24T02:15:31.754606Z",
     "start_time": "2020-04-24T02:15:31.743288Z"
    }
   },
   "outputs": [],
   "source": [
    "def find_common_qids(bing_log, wikisynth, cwebsynth):\n",
    "    common_df = wikisynth.merge(cwebsynth, on='query_id', how='inner')\\\n",
    "                    .merge(bing_log, on='query_id', how='inner')\n",
    "    common_df.dropna(inplace=True)\n",
    "    common_qids = common_df.query_id.unique()\n",
    "    return common_qids"
   ]
  },
  {
   "cell_type": "code",
   "execution_count": 6,
   "metadata": {
    "ExecuteTime": {
     "end_time": "2020-04-24T02:15:31.925550Z",
     "start_time": "2020-04-24T02:15:31.763329Z"
    }
   },
   "outputs": [
    {
     "name": "stdout",
     "output_type": "stream",
     "text": [
      "Common qids  176\n"
     ]
    }
   ],
   "source": [
    "common_qids = find_common_qids(bing_log, wikisynth, cwebsynth)\n",
    "print \"Common qids \", len(common_qids)"
   ]
  },
  {
   "cell_type": "code",
   "execution_count": 9,
   "metadata": {
    "ExecuteTime": {
     "end_time": "2020-04-24T02:17:47.539561Z",
     "start_time": "2020-04-24T02:17:47.506591Z"
    }
   },
   "outputs": [
    {
     "data": {
      "text/plain": [
       "array(['2018-08-13_93_m', '2018-08-13_86_d', '2018-08-13_56_m',\n",
       "       '2018-08-13_81_m', '2018-08-13_35_m'], dtype=object)"
      ]
     },
     "execution_count": 9,
     "metadata": {},
     "output_type": "execute_result"
    }
   ],
   "source": [
    "np.random.choice(common_qids, 5)"
   ]
  },
  {
   "cell_type": "markdown",
   "metadata": {},
   "source": [
    "## Sort and sample the logs"
   ]
  },
  {
   "cell_type": "code",
   "execution_count": 10,
   "metadata": {
    "ExecuteTime": {
     "end_time": "2020-04-24T02:18:05.701501Z",
     "start_time": "2020-04-24T02:18:05.690037Z"
    }
   },
   "outputs": [],
   "source": [
    "def filter_and_sample(log_df, log_end, common_qids, n):\n",
    "    qid_sample = np.random.choice(common_qids, n)\n",
    "    log_df = log_df[log_df.query_id.isin(qid_sample)]\n",
    "    log_end = find_synth_end(log_df)\n",
    "    return log_df, log_end"
   ]
  },
  {
   "cell_type": "code",
   "execution_count": 11,
   "metadata": {
    "ExecuteTime": {
     "end_time": "2020-04-24T02:18:06.152727Z",
     "start_time": "2020-04-24T02:18:06.098765Z"
    },
    "scrolled": true
   },
   "outputs": [],
   "source": [
    "bing_log, bing_end = filter_and_sample(bing_log, bing_end, common_qids, 10)\n",
    "wikisynth, wiki_end = filter_and_sample(wikisynth, wiki_end, common_qids, 10)\n",
    "cwebsynth, cweb_end = filter_and_sample(cwebsynth, cweb_end, common_qids, 10)"
   ]
  },
  {
   "cell_type": "code",
   "execution_count": 12,
   "metadata": {
    "ExecuteTime": {
     "end_time": "2020-04-24T02:18:07.801734Z",
     "start_time": "2020-04-24T02:18:07.759669Z"
    }
   },
   "outputs": [
    {
     "name": "stdout",
     "output_type": "stream",
     "text": [
      "Basic BingLog stats\n",
      "========================================\n",
      "('Number of conversations: ', 10)\n",
      "('Number of interactions: ', 83)\n",
      "('Partial query lengths stats\\n', count    83.000000\n",
      "mean     10.855422\n",
      "std       9.162666\n",
      "min       1.000000\n",
      "25%       3.000000\n",
      "50%       9.000000\n",
      "75%      16.000000\n",
      "max      37.000000\n",
      "Name: prefix_len, dtype: float64)\n",
      "('Unique partial queries: ', 80)\n",
      "('Unique final partial queries: ', 10)\n",
      "\n",
      "\n",
      "Basic WikiSynth stats\n",
      "========================================\n",
      "('Number of conversations: ', 10)\n",
      "('Number of interactions: ', 53)\n",
      "('Partial query lengths stats\\n', count    53.000000\n",
      "mean      7.981132\n",
      "std       7.617012\n",
      "min       1.000000\n",
      "25%       3.000000\n",
      "50%       6.000000\n",
      "75%      10.000000\n",
      "max      30.000000\n",
      "Name: prefix_len, dtype: float64)\n",
      "('Unique partial queries: ', 53)\n",
      "('Unique final partial queries: ', 10)\n",
      "\n",
      "\n",
      "Basic CwebSynth stats\n",
      "========================================\n",
      "('Number of conversations: ', 10)\n",
      "('Number of interactions: ', 44)\n",
      "('Partial query lengths stats\\n', count    44.000000\n",
      "mean      7.659091\n",
      "std       6.072979\n",
      "min       1.000000\n",
      "25%       3.000000\n",
      "50%       5.500000\n",
      "75%      11.500000\n",
      "max      22.000000\n",
      "Name: prefix_len, dtype: float64)\n",
      "('Unique partial queries: ', 43)\n",
      "('Unique final partial queries: ', 10)\n"
     ]
    }
   ],
   "source": [
    "print(\"Basic BingLog stats\")\n",
    "print(\"=\"*40)\n",
    "print_basic_stats(bing_log, bing_end)\n",
    "print(\"\\n\\nBasic WikiSynth stats\")\n",
    "print(\"=\"*40)\n",
    "print_basic_stats(wikisynth, wiki_end)\n",
    "print(\"\\n\\nBasic CwebSynth stats\")\n",
    "print(\"=\"*40)\n",
    "print_basic_stats(cwebsynth, cweb_end)"
   ]
  },
  {
   "cell_type": "markdown",
   "metadata": {},
   "source": [
    "## Export "
   ]
  },
  {
   "cell_type": "code",
   "execution_count": null,
   "metadata": {},
   "outputs": [],
   "source": [
    "def export_logdf(log_df, file_name):\n",
    "    file_stub = file_name.split('.')\n",
    "    export_file = file_stub[0] + '-sample.tsv'\n",
    "    log_df.to_csv(export_file, sep='\\t')"
   ]
  }
 ],
 "metadata": {
  "kernelspec": {
   "display_name": "Python 2",
   "language": "python",
   "name": "python2"
  },
  "language_info": {
   "codemirror_mode": {
    "name": "ipython",
    "version": 2
   },
   "file_extension": ".py",
   "mimetype": "text/x-python",
   "name": "python",
   "nbconvert_exporter": "python",
   "pygments_lexer": "ipython2",
   "version": "2.7.15"
  },
  "varInspector": {
   "cols": {
    "lenName": 16,
    "lenType": 16,
    "lenVar": 40
   },
   "kernels_config": {
    "python": {
     "delete_cmd_postfix": "",
     "delete_cmd_prefix": "del ",
     "library": "var_list.py",
     "varRefreshCmd": "print(var_dic_list())"
    },
    "r": {
     "delete_cmd_postfix": ") ",
     "delete_cmd_prefix": "rm(",
     "library": "var_list.r",
     "varRefreshCmd": "cat(var_dic_list()) "
    }
   },
   "types_to_exclude": [
    "module",
    "function",
    "builtin_function_or_method",
    "instance",
    "_Feature"
   ],
   "window_display": false
  }
 },
 "nbformat": 4,
 "nbformat_minor": 2
}
