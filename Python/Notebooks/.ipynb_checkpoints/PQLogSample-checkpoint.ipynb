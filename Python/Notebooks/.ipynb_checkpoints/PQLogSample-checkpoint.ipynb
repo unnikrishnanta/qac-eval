{
 "cells": [
  {
   "cell_type": "markdown",
   "metadata": {},
   "source": [
    "# Intersect common `QID`s from all three logs and sample `n` conversations from the common qids"
   ]
  },
  {
   "cell_type": "code",
   "execution_count": 1,
   "metadata": {
    "ExecuteTime": {
     "end_time": "2020-04-24T03:41:11.670015Z",
     "start_time": "2020-04-24T03:41:10.251189Z"
    }
   },
   "outputs": [],
   "source": [
    "import pandas as pd\n",
    "import csv \n",
    "import sys\n",
    "import numpy as np"
   ]
  },
  {
   "cell_type": "code",
   "execution_count": 2,
   "metadata": {
    "ExecuteTime": {
     "end_time": "2020-04-24T03:41:11.719160Z",
     "start_time": "2020-04-24T03:41:11.677218Z"
    }
   },
   "outputs": [],
   "source": [
    "\n",
    "def read_synthlog(file_name, nrows=None):\n",
    "    if file_name.endswith('gz'):\n",
    "        compression = 'gzip'\n",
    "    else :\n",
    "        compression = None\n",
    "    \n",
    "    synth_df = pd.read_csv(file_name, sep='\\t', compression=compression,\n",
    "                            names=['prefix_str', 'query_id'],\n",
    "                            nrows=nrows, quoting=csv.QUOTE_NONE)\n",
    "    synth_df.dropna(subset=['prefix_str'], inplace=True)\n",
    "    synth_df['prefix_len'] = synth_df.prefix_str.str.len()\n",
    "    return synth_df[~(synth_df.prefix_len == 0)]\n",
    "\n",
    "def find_synth_end(synth_log):\n",
    "    \"\"\" Return a dataframe containing only the last interaction from each \n",
    "    conversation in synth_log.\n",
    "    \"\"\"\n",
    "    end_df = synth_log.index.to_series().groupby(\n",
    "                            synth_log['query_id']).last().reset_index(name='end_idx')\n",
    "    synth_end = synth_log[synth_log.index.isin(end_df.end_idx)]\n",
    "    return synth_end\n",
    "\n",
    "def load_synthlog(file_name, nrows=None):\n",
    "    synth_log = read_synthlog(file_name, nrows)\n",
    "    synth_end = find_synth_end(synth_log)\n",
    "    return synth_log, synth_end\n",
    "\n",
    "def print_basic_stats(log_df, log_end):\n",
    "    print(\"Number of conversations: \", len(log_end))\n",
    "    print(\"Number of interactions: \", len(log_df))\n",
    "    # conv_lendf = conversation_lengths(log_df)\n",
    "    # print(\"Median length of conversations: \", conv_lendf.conv_len.median())\n",
    "    # print(\"Median length of partial queries \", log_df.prefix_len.median())\n",
    "    print(\"Partial query lengths stats\\n\", log_df.prefix_len.describe())\n",
    "    print(\"Unique partial queries: \", len(log_df.prefix_str.unique()))\n",
    "    print(\"Unique final partial queries: \", len(log_end.prefix_str.unique()))\n",
    "\n"
   ]
  },
  {
   "cell_type": "code",
   "execution_count": 3,
   "metadata": {
    "ExecuteTime": {
     "end_time": "2020-04-24T03:41:11.816571Z",
     "start_time": "2020-04-24T03:41:11.725899Z"
    }
   },
   "outputs": [],
   "source": [
    "nrows = 1000\n",
    "\n",
    "bing_log, bing_end = load_synthlog('../../../synth_log/data/wiki-synthlog.tsv', nrows=nrows)\n",
    "wikisynth, wiki_end = load_synthlog('../../../synth_log/data/wiki-synthlog.tsv', nrows=nrows)\n",
    "cwebsynth, cweb_end = load_synthlog('../../../synth_log/data/cweb-synthlog.tsv', nrows=nrows)\n"
   ]
  },
  {
   "cell_type": "code",
   "execution_count": 4,
   "metadata": {
    "ExecuteTime": {
     "end_time": "2020-04-24T03:41:11.858381Z",
     "start_time": "2020-04-24T03:41:11.822084Z"
    },
    "scrolled": true
   },
   "outputs": [
    {
     "name": "stdout",
     "output_type": "stream",
     "text": [
      "Basic BingLog stats\n",
      "========================================\n",
      "('Number of conversations: ', 176)\n",
      "('Number of interactions: ', 990)\n",
      "('Partial query lengths stats\\n', count    990.000000\n",
      "mean       8.379798\n",
      "std        7.541137\n",
      "min        1.000000\n",
      "25%        3.000000\n",
      "50%        6.000000\n",
      "75%       12.000000\n",
      "max       61.000000\n",
      "Name: prefix_len, dtype: float64)\n",
      "('Unique partial queries: ', 861)\n",
      "('Unique final partial queries: ', 172)\n",
      "\n",
      "\n",
      "Basic WikiSynth stats\n",
      "========================================\n",
      "('Number of conversations: ', 176)\n",
      "('Number of interactions: ', 990)\n",
      "('Partial query lengths stats\\n', count    990.000000\n",
      "mean       8.379798\n",
      "std        7.541137\n",
      "min        1.000000\n",
      "25%        3.000000\n",
      "50%        6.000000\n",
      "75%       12.000000\n",
      "max       61.000000\n",
      "Name: prefix_len, dtype: float64)\n",
      "('Unique partial queries: ', 861)\n",
      "('Unique final partial queries: ', 172)\n",
      "\n",
      "\n",
      "Basic CwebSynth stats\n",
      "========================================\n",
      "('Number of conversations: ', 176)\n",
      "('Number of interactions: ', 990)\n",
      "('Partial query lengths stats\\n', count    990.000000\n",
      "mean       8.379798\n",
      "std        7.541137\n",
      "min        1.000000\n",
      "25%        3.000000\n",
      "50%        6.000000\n",
      "75%       12.000000\n",
      "max       61.000000\n",
      "Name: prefix_len, dtype: float64)\n",
      "('Unique partial queries: ', 859)\n",
      "('Unique final partial queries: ', 173)\n"
     ]
    }
   ],
   "source": [
    "print(\"Basic BingLog stats\")\n",
    "print(\"=\"*40)\n",
    "print_basic_stats(bing_log, bing_end)\n",
    "print(\"\\n\\nBasic WikiSynth stats\")\n",
    "print(\"=\"*40)\n",
    "print_basic_stats(wikisynth, wiki_end)\n",
    "print(\"\\n\\nBasic CwebSynth stats\")\n",
    "print(\"=\"*40)\n",
    "print_basic_stats(cwebsynth, cweb_end)"
   ]
  },
  {
   "cell_type": "markdown",
   "metadata": {},
   "source": [
    "## Find intersection of qids"
   ]
  },
  {
   "cell_type": "code",
   "execution_count": 5,
   "metadata": {
    "ExecuteTime": {
     "end_time": "2020-04-24T03:41:11.874974Z",
     "start_time": "2020-04-24T03:41:11.864953Z"
    }
   },
   "outputs": [],
   "source": [
    "def find_common_qids(bing_log, wikisynth, cwebsynth):\n",
    "    common_df = wikisynth.merge(cwebsynth, on='query_id', how='inner')\\\n",
    "                    .merge(bing_log, on='query_id', how='inner')\n",
    "    common_df.dropna(inplace=True)\n",
    "    common_qids = common_df.query_id.unique()\n",
    "    return common_qids"
   ]
  },
  {
   "cell_type": "code",
   "execution_count": 6,
   "metadata": {
    "ExecuteTime": {
     "end_time": "2020-04-24T03:41:12.060142Z",
     "start_time": "2020-04-24T03:41:11.883583Z"
    }
   },
   "outputs": [
    {
     "name": "stdout",
     "output_type": "stream",
     "text": [
      "Common qids  176\n"
     ]
    }
   ],
   "source": [
    "common_qids = find_common_qids(bing_log, wikisynth, cwebsynth)\n",
    "print \"Common qids \", len(common_qids)"
   ]
  },
  {
   "cell_type": "code",
   "execution_count": 7,
   "metadata": {
    "ExecuteTime": {
     "end_time": "2020-04-24T03:41:12.126325Z",
     "start_time": "2020-04-24T03:41:12.070822Z"
    }
   },
   "outputs": [
    {
     "data": {
      "text/plain": [
       "array(['2018-08-13_12_d', '2018-08-13_2_d', '2018-08-13_91_m',\n",
       "       '2018-08-13_69_m', '2018-08-13_78_d'], dtype=object)"
      ]
     },
     "execution_count": 7,
     "metadata": {},
     "output_type": "execute_result"
    }
   ],
   "source": [
    "np.random.choice(common_qids, 5)"
   ]
  },
  {
   "cell_type": "markdown",
   "metadata": {},
   "source": [
    "## Sort and sample the logs"
   ]
  },
  {
   "cell_type": "code",
   "execution_count": 8,
   "metadata": {
    "ExecuteTime": {
     "end_time": "2020-04-24T03:41:12.166943Z",
     "start_time": "2020-04-24T03:41:12.139113Z"
    }
   },
   "outputs": [],
   "source": [
    "def filter_and_sample(log_df, log_end, common_qids, n):\n",
    "    qid_sample = np.random.choice(common_qids, n)\n",
    "    log_df = log_df[log_df.query_id.isin(qid_sample)]\n",
    "    log_end = find_synth_end(log_df)\n",
    "    return log_df, log_end"
   ]
  },
  {
   "cell_type": "code",
   "execution_count": 9,
   "metadata": {
    "ExecuteTime": {
     "end_time": "2020-04-24T03:41:12.242240Z",
     "start_time": "2020-04-24T03:41:12.187279Z"
    },
    "scrolled": true
   },
   "outputs": [],
   "source": [
    "bing_log, bing_end = filter_and_sample(bing_log, bing_end, common_qids, 10)\n",
    "wikisynth, wiki_end = filter_and_sample(wikisynth, wiki_end, common_qids, 10)\n",
    "cwebsynth, cweb_end = filter_and_sample(cwebsynth, cweb_end, common_qids, 10)"
   ]
  },
  {
   "cell_type": "code",
   "execution_count": 10,
   "metadata": {
    "ExecuteTime": {
     "end_time": "2020-04-24T03:41:12.307205Z",
     "start_time": "2020-04-24T03:41:12.249931Z"
    }
   },
   "outputs": [
    {
     "name": "stdout",
     "output_type": "stream",
     "text": [
      "Basic BingLog stats\n",
      "========================================\n",
      "('Number of conversations: ', 10)\n",
      "('Number of interactions: ', 54)\n",
      "('Partial query lengths stats\\n', count    54.000000\n",
      "mean      9.166667\n",
      "std       7.590336\n",
      "min       1.000000\n",
      "25%       3.000000\n",
      "50%       7.000000\n",
      "75%      12.750000\n",
      "max      32.000000\n",
      "Name: prefix_len, dtype: float64)\n",
      "('Unique partial queries: ', 51)\n",
      "('Unique final partial queries: ', 10)\n",
      "\n",
      "\n",
      "Basic WikiSynth stats\n",
      "========================================\n",
      "('Number of conversations: ', 10)\n",
      "('Number of interactions: ', 69)\n",
      "('Partial query lengths stats\\n', count    69.000000\n",
      "mean      5.565217\n",
      "std       4.336840\n",
      "min       1.000000\n",
      "25%       3.000000\n",
      "50%       5.000000\n",
      "75%       7.000000\n",
      "max      26.000000\n",
      "Name: prefix_len, dtype: float64)\n",
      "('Unique partial queries: ', 67)\n",
      "('Unique final partial queries: ', 10)\n",
      "\n",
      "\n",
      "Basic CwebSynth stats\n",
      "========================================\n",
      "('Number of conversations: ', 10)\n",
      "('Number of interactions: ', 43)\n",
      "('Partial query lengths stats\\n', count    43.000000\n",
      "mean      6.697674\n",
      "std       6.663814\n",
      "min       1.000000\n",
      "25%       2.000000\n",
      "50%       5.000000\n",
      "75%       8.500000\n",
      "max      29.000000\n",
      "Name: prefix_len, dtype: float64)\n",
      "('Unique partial queries: ', 42)\n",
      "('Unique final partial queries: ', 10)\n"
     ]
    }
   ],
   "source": [
    "print(\"Basic BingLog stats\")\n",
    "print(\"=\"*40)\n",
    "print_basic_stats(bing_log, bing_end)\n",
    "print(\"\\n\\nBasic WikiSynth stats\")\n",
    "print(\"=\"*40)\n",
    "print_basic_stats(wikisynth, wiki_end)\n",
    "print(\"\\n\\nBasic CwebSynth stats\")\n",
    "print(\"=\"*40)\n",
    "print_basic_stats(cwebsynth, cweb_end)"
   ]
  },
  {
   "cell_type": "markdown",
   "metadata": {},
   "source": [
    "## Export "
   ]
  },
  {
   "cell_type": "code",
   "execution_count": 11,
   "metadata": {
    "ExecuteTime": {
     "end_time": "2020-04-24T03:41:12.339275Z",
     "start_time": "2020-04-24T03:41:12.319571Z"
    }
   },
   "outputs": [],
   "source": [
    "def export_logdf(log_df, file_name):\n",
    "    file_stub = file_name.split('.')\n",
    "    export_file = file_stub[0] + '-sample.tsv'\n",
    "    log_df.to_csv(export_file, sep='\\t')"
   ]
  }
 ],
 "metadata": {
  "kernelspec": {
   "display_name": "Python 2",
   "language": "python",
   "name": "python2"
  },
  "language_info": {
   "codemirror_mode": {
    "name": "ipython",
    "version": 2
   },
   "file_extension": ".py",
   "mimetype": "text/x-python",
   "name": "python",
   "nbconvert_exporter": "python",
   "pygments_lexer": "ipython2",
   "version": "2.7.15"
  },
  "varInspector": {
   "cols": {
    "lenName": 16,
    "lenType": 16,
    "lenVar": 40
   },
   "kernels_config": {
    "python": {
     "delete_cmd_postfix": "",
     "delete_cmd_prefix": "del ",
     "library": "var_list.py",
     "varRefreshCmd": "print(var_dic_list())"
    },
    "r": {
     "delete_cmd_postfix": ") ",
     "delete_cmd_prefix": "rm(",
     "library": "var_list.r",
     "varRefreshCmd": "cat(var_dic_list()) "
    }
   },
   "types_to_exclude": [
    "module",
    "function",
    "builtin_function_or_method",
    "instance",
    "_Feature"
   ],
   "window_display": false
  }
 },
 "nbformat": 4,
 "nbformat_minor": 2
}
