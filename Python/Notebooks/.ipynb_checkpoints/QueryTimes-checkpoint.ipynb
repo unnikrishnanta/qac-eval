{
 "cells": [
  {
   "cell_type": "code",
   "execution_count": 1,
   "metadata": {
    "ExecuteTime": {
     "end_time": "2020-05-08T01:59:38.447237Z",
     "start_time": "2020-05-08T01:59:37.178418Z"
    }
   },
   "outputs": [],
   "source": [
    "import pandas as pd\n",
    "import seaborn as sns\n",
    "import matplotlib.pylab as plt\n",
    "import numpy as np"
   ]
  },
  {
   "cell_type": "code",
   "execution_count": 2,
   "metadata": {
    "ExecuteTime": {
     "end_time": "2020-05-08T01:59:38.482718Z",
     "start_time": "2020-05-08T01:59:38.459948Z"
    }
   },
   "outputs": [],
   "source": [
    "%matplotlib inline"
   ]
  },
  {
   "cell_type": "code",
   "execution_count": 3,
   "metadata": {
    "ExecuteTime": {
     "end_time": "2020-05-08T01:59:38.504699Z",
     "start_time": "2020-05-08T01:59:38.494392Z"
    }
   },
   "outputs": [],
   "source": [
    "sns.set(rc={'figure.figsize': (11.7, 8.27)}, style=\"white\", color_codes=True)\n",
    "plt.rc('pdf', fonttype=42)  # Embed font"
   ]
  },
  {
   "cell_type": "code",
   "execution_count": 4,
   "metadata": {
    "ExecuteTime": {
     "end_time": "2020-05-08T01:59:38.600272Z",
     "start_time": "2020-05-08T01:59:38.515223Z"
    }
   },
   "outputs": [],
   "source": [
    "wiki_qdf = pd.read_csv('../../export/data/query-times-wiki-collsize.csv')"
   ]
  },
  {
   "cell_type": "code",
   "execution_count": 5,
   "metadata": {
    "ExecuteTime": {
     "end_time": "2020-05-08T01:59:38.618475Z",
     "start_time": "2020-05-08T01:59:38.604883Z"
    }
   },
   "outputs": [
    {
     "data": {
      "text/plain": [
       "Index(['name', 'iterations', 'real_time', 'cpu_time', 'time_unit',\n",
       "       'bytes_per_second', 'items_per_second', 'label', 'error_occurred',\n",
       "       'error_message', 'CompByesInvRate', 'CompBytesRate', 'NComp', 'NPQ',\n",
       "       'NPQInvRate', 'NPQRate', 'PQByesInvRate', 'PQBytes', 'PQBytesRate'],\n",
       "      dtype='object')"
      ]
     },
     "execution_count": 5,
     "metadata": {},
     "output_type": "execute_result"
    }
   ],
   "source": [
    "wiki_qdf.columns"
   ]
  },
  {
   "cell_type": "code",
   "execution_count": 6,
   "metadata": {
    "ExecuteTime": {
     "end_time": "2020-05-08T01:59:38.640908Z",
     "start_time": "2020-05-08T01:59:38.623611Z"
    }
   },
   "outputs": [],
   "source": [
    "def load_qtime_collsize_df(collection, convert_units=True):\n",
    "    query_df = pd.read_csv('../../export/data/query-times-{0}-collsize.csv'.format(collection))\n",
    "    name_split = query_df.name.str.split('/')\n",
    "    qac_impl = name_split.apply(lambda x: x[1])\n",
    "    coll_size = name_split.apply(lambda x: int(x[2]))\n",
    "    pqlog_nconv = name_split.apply(lambda x: int(x[3]))\n",
    "    log_type = name_split.apply(lambda x: x[4])\n",
    "    log_type.replace('108', 'LRLog', inplace=True)\n",
    "    log_type.replace('115', 'SynthLog', inplace=True)\n",
    "    \n",
    "    query_df['qac_impl'] = qac_impl\n",
    "    query_df['coll_size'] = coll_size\n",
    "    query_df['nconv'] = pqlog_nconv\n",
    "    query_df['log_type'] = log_type\n",
    "    query_df['collection'] = collection\n",
    "    \n",
    "    query_df.drop(['name','bytes_per_second','items_per_second',\n",
    "                   'label','error_occurred','error_message'], axis=1, inplace=True)\n",
    "    \n",
    "    if convert_units:\n",
    "        if len(query_df.time_unit.unique()) > 1:\n",
    "            raise ValueError('Mixed time units')\n",
    "        time_unit = query_df.time_unit.unique()[0]\n",
    "        if time_unit == 'ms':\n",
    "            query_df.cpu_time = query_df.cpu_time/(10**3)  # ns to s\n",
    "            query_df.real_time = query_df.real_time/(10**3)\n",
    "        else:\n",
    "            raise ValueError('Unrecognised time unit')\n",
    "    \n",
    "    return query_df"
   ]
  },
  {
   "cell_type": "code",
   "execution_count": 7,
   "metadata": {
    "ExecuteTime": {
     "end_time": "2020-05-08T01:59:38.667249Z",
     "start_time": "2020-05-08T01:59:38.645802Z"
    }
   },
   "outputs": [],
   "source": [
    "wiki_csize_df = load_qtime_collsize_df('wiki', convert_units=True)\n",
    "# cweb_csize_df = load_qtime_collsize_df('cweb') # TODO: Update with Bing\n",
    "# bing_csize_df = load_qtime_collsize_df('bing') # TODO: Update with CWEb"
   ]
  },
  {
   "cell_type": "code",
   "execution_count": 8,
   "metadata": {
    "ExecuteTime": {
     "end_time": "2020-05-08T01:59:38.687024Z",
     "start_time": "2020-05-08T01:59:38.680683Z"
    }
   },
   "outputs": [],
   "source": [
    "#combined_qtime_csize = wiki_csize_df.append(cweb_csize_df, ignore_index=True)\n",
    "combined_qtime_csize = wiki_csize_df"
   ]
  },
  {
   "cell_type": "code",
   "execution_count": 9,
   "metadata": {
    "ExecuteTime": {
     "end_time": "2020-05-08T01:59:38.707913Z",
     "start_time": "2020-05-08T01:59:38.698218Z"
    }
   },
   "outputs": [
    {
     "data": {
      "text/plain": [
       "array(['QueryHTrie', 'QueryMarisa', 'QueryDAWG', 'QueryIncNgTrie'],\n",
       "      dtype=object)"
      ]
     },
     "execution_count": 9,
     "metadata": {},
     "output_type": "execute_result"
    }
   ],
   "source": [
    "combined_qtime_csize.qac_impl.unique()"
   ]
  },
  {
   "cell_type": "markdown",
   "metadata": {},
   "source": [
    "## Plot collection size vs querying time"
   ]
  },
  {
   "cell_type": "code",
   "execution_count": 10,
   "metadata": {
    "ExecuteTime": {
     "end_time": "2020-05-08T01:59:40.027933Z",
     "start_time": "2020-05-08T01:59:38.716293Z"
    }
   },
   "outputs": [
    {
     "data": {
      "image/png": "[encoded data removed]",
      "text/plain": [
       "<Figure size 842.4x595.44 with 1 Axes>"
      ]
     },
     "metadata": {},
     "output_type": "display_data"
    }
   ],
   "source": [
    "slice_df = combined_qtime_csize[(combined_qtime_csize.qac_impl == 'QueryIncNgTrie') & \n",
    "                                 (combined_qtime_csize.log_type == \"SynthLog\")]\n",
    "ax = sns.lineplot(x=\"coll_size\", y=\"cpu_time\", hue='collection', data=slice_df)\n",
    "ax.set_xscale('log', basex=2)\n",
    "ax.set_yscale('log', basey=2)\n",
    "plt.show()"
   ]
  },
  {
   "cell_type": "code",
   "execution_count": 11,
   "metadata": {
    "ExecuteTime": {
     "end_time": "2020-05-08T01:59:40.053444Z",
     "start_time": "2020-05-08T01:59:40.041344Z"
    }
   },
   "outputs": [
    {
     "data": {
      "text/plain": [
       "'ms'"
      ]
     },
     "execution_count": 11,
     "metadata": {},
     "output_type": "execute_result"
    }
   ],
   "source": [
    "wiki_csize_df.time_unit.unique()[0]"
   ]
  },
  {
   "cell_type": "code",
   "execution_count": 12,
   "metadata": {
    "ExecuteTime": {
     "end_time": "2020-05-08T01:59:40.069017Z",
     "start_time": "2020-05-08T01:59:40.058874Z"
    }
   },
   "outputs": [
    {
     "data": {
      "text/plain": [
       "1000000000.0"
      ]
     },
     "execution_count": 12,
     "metadata": {},
     "output_type": "execute_result"
    }
   ],
   "source": [
    "1e9"
   ]
  },
  {
   "cell_type": "code",
   "execution_count": null,
   "metadata": {},
   "outputs": [],
   "source": []
  }
 ],
 "metadata": {
  "kernelspec": {
   "display_name": "Python 3",
   "language": "python",
   "name": "python3"
  },
  "language_info": {
   "codemirror_mode": {
    "name": "ipython",
    "version": 3
   },
   "file_extension": ".py",
   "mimetype": "text/x-python",
   "name": "python",
   "nbconvert_exporter": "python",
   "pygments_lexer": "ipython3",
   "version": "3.7.3"
  },
  "varInspector": {
   "cols": {
    "lenName": 16,
    "lenType": 16,
    "lenVar": 40
   },
   "kernels_config": {
    "python": {
     "delete_cmd_postfix": "",
     "delete_cmd_prefix": "del ",
     "library": "var_list.py",
     "varRefreshCmd": "print(var_dic_list())"
    },
    "r": {
     "delete_cmd_postfix": ") ",
     "delete_cmd_prefix": "rm(",
     "library": "var_list.r",
     "varRefreshCmd": "cat(var_dic_list()) "
    }
   },
   "types_to_exclude": [
    "module",
    "function",
    "builtin_function_or_method",
    "instance",
    "_Feature"
   ],
   "window_display": false
  }
 },
 "nbformat": 4,
 "nbformat_minor": 2
}
