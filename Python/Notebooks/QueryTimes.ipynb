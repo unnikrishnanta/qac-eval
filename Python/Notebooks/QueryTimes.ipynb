{
 "cells": [
  {
   "cell_type": "code",
   "execution_count": 8,
   "metadata": {
    "ExecuteTime": {
     "end_time": "2020-08-12T13:06:28.538389Z",
     "start_time": "2020-08-12T13:06:28.527486Z"
    }
   },
   "outputs": [],
   "source": [
    "import pandas as pd\n",
    "import seaborn as sns\n",
    "import matplotlib.pylab as plt\n",
    "import numpy as np"
   ]
  },
  {
   "cell_type": "code",
   "execution_count": 9,
   "metadata": {
    "ExecuteTime": {
     "end_time": "2020-08-12T13:06:28.557663Z",
     "start_time": "2020-08-12T13:06:28.545340Z"
    }
   },
   "outputs": [],
   "source": [
    "%matplotlib inline"
   ]
  },
  {
   "cell_type": "code",
   "execution_count": 10,
   "metadata": {
    "ExecuteTime": {
     "end_time": "2020-08-12T13:06:28.598678Z",
     "start_time": "2020-08-12T13:06:28.566206Z"
    }
   },
   "outputs": [],
   "source": [
    "sns.set(rc={'figure.figsize': (11.7, 8.27)}, style=\"white\", color_codes=True)\n",
    "plt.rc('pdf', fonttype=42)  # Embed font"
   ]
  },
  {
   "cell_type": "code",
   "execution_count": 11,
   "metadata": {
    "ExecuteTime": {
     "end_time": "2020-08-12T13:06:28.811847Z",
     "start_time": "2020-08-12T13:06:28.607897Z"
    }
   },
   "outputs": [],
   "source": [
    "def convert_time(log_df):\n",
    "    if len(log_df.time_unit.unique()) > 1:\n",
    "            raise ValueError('Mixed time units')\n",
    "    time_unit = log_df.time_unit.unique()[0]\n",
    "    if time_unit == 'ms':\n",
    "        log_df.cpu_time = log_df.cpu_time/(10**3)  # ms to s\n",
    "        log_df.real_time = log_df.real_time/(10**3)\n",
    "    elif time_unit == 'ns':\n",
    "        log_df.cpu_time = log_df.cpu_time/(10**9)  # ns to s\n",
    "        log_df.real_time = log_df.real_time/(10**9)\n",
    "    else:\n",
    "        raise ValueError('Unrecognised time unit')\n",
    "    \n",
    "def load_qtime_collsize_df(filename, collection, convert_units=True):\n",
    "    query_df = pd.read_csv(filename, index_col=None)\n",
    "    name_split = query_df.name.str.split('/')\n",
    "    qac_impl = name_split.apply(lambda x: x[1])\n",
    "    coll_size = name_split.apply(lambda x: int(x[2]))\n",
    "    pqlog_nconv = name_split.apply(lambda x: int(x[3]))\n",
    "    log_type = name_split.apply(lambda x: x[4])\n",
    "    log_type.replace('108', 'LRLog', inplace=True)\n",
    "    log_type.replace('115', 'SynthLog', inplace=True)\n",
    "    \n",
    "    query_df['qac_impl'] = qac_impl\n",
    "    query_df['nrows'] = coll_size\n",
    "    query_df['nconv'] = pqlog_nconv\n",
    "    query_df['log_type'] = log_type\n",
    "    query_df['collection'] = collection\n",
    "    \n",
    "    query_df.drop(['name','bytes_per_second','items_per_second',\n",
    "                   'label','error_occurred','error_message'],\n",
    "                   axis=1, inplace=True)\n",
    "    \n",
    "#     scaling_factor = 8\n",
    "#     if query_df.iloc[-1]['nrows']/query_df.iloc[-2]['nrows'] != scaling_factor:\n",
    "#         query_df = query_df[:-1] # Drop the last row\n",
    "    \n",
    "    if convert_units:\n",
    "        if len(query_df.time_unit.unique()) > 1:\n",
    "            raise ValueError('Mixed time units')\n",
    "        time_unit = query_df.time_unit.unique()[0]\n",
    "        if time_unit == 'ms':\n",
    "            query_df.cpu_time = query_df.cpu_time/(10**3)  # ns to s\n",
    "            query_df.real_time = query_df.real_time/(10**3)\n",
    "        else:\n",
    "            raise ValueError('Unrecognised time unit')\n",
    "    \n",
    "    return query_df"
   ]
  },
  {
   "cell_type": "code",
   "execution_count": 12,
   "metadata": {
    "ExecuteTime": {
     "end_time": "2020-08-12T13:06:28.856080Z",
     "start_time": "2020-08-12T13:06:28.825367Z"
    },
    "scrolled": true
   },
   "outputs": [],
   "source": [
    "wiki_qdf = pd.read_csv('../../export/data/query-collsize/wiki.csv', index_col=None)"
   ]
  },
  {
   "cell_type": "code",
   "execution_count": 13,
   "metadata": {
    "ExecuteTime": {
     "end_time": "2020-08-12T13:06:28.876556Z",
     "start_time": "2020-08-12T13:06:28.865062Z"
    }
   },
   "outputs": [
    {
     "name": "stdout",
     "output_type": "stream",
     "text": [
      "['Fixture<IncNgTrieCompleter>', 'IncNgTrie', '4096', '10000', '108']\n",
      "['Fixture<IncNgTrieCompleter>', 'IncNgTrie', '32768', '10000', '108']\n",
      "['Fixture<IncNgTrieCompleter>', 'IncNgTrie', '262144', '10000', '108']\n",
      "['Fixture<IncNgTrieCompleter>', 'IncNgTrie', '2097152', '10000', '108']\n",
      "['Fixture<IncNgTrieCompleter>', 'IncNgTrie', '4560699', '10000', '108']\n"
     ]
    }
   ],
   "source": [
    "for x in wiki_qdf.tail().name.str.split('/'):\n",
    "    print(x)"
   ]
  },
  {
   "cell_type": "code",
   "execution_count": 14,
   "metadata": {
    "ExecuteTime": {
     "end_time": "2020-08-12T13:06:29.023229Z",
     "start_time": "2020-08-12T13:06:28.886038Z"
    }
   },
   "outputs": [],
   "source": [
    "wiki_csize_df = load_qtime_collsize_df('../../export/data/query-collsize/wiki.csv','wiki')\n",
    "cweb_csize_df = load_qtime_collsize_df('../../export/data/query-collsize/cweb.csv','cweb')\n",
    "bing_csize_df = load_qtime_collsize_df('../../export/data/query-collsize/bing.csv','bing') "
   ]
  },
  {
   "cell_type": "code",
   "execution_count": 15,
   "metadata": {
    "ExecuteTime": {
     "end_time": "2020-08-12T13:06:29.210126Z",
     "start_time": "2020-08-12T13:06:29.030119Z"
    }
   },
   "outputs": [
    {
     "data": {
      "text/html": [
       "<div>\n",
       "<style scoped>\n",
       "    .dataframe tbody tr th:only-of-type {\n",
       "        vertical-align: middle;\n",
       "    }\n",
       "\n",
       "    .dataframe tbody tr th {\n",
       "        vertical-align: top;\n",
       "    }\n",
       "\n",
       "    .dataframe thead th {\n",
       "        text-align: right;\n",
       "    }\n",
       "</style>\n",
       "<table border=\"1\" class=\"dataframe\">\n",
       "  <thead>\n",
       "    <tr style=\"text-align: right;\">\n",
       "      <th></th>\n",
       "      <th>iterations</th>\n",
       "      <th>real_time</th>\n",
       "      <th>cpu_time</th>\n",
       "      <th>time_unit</th>\n",
       "      <th>CompByesInvRate</th>\n",
       "      <th>CompBytesRate</th>\n",
       "      <th>NComp</th>\n",
       "      <th>NPQ</th>\n",
       "      <th>NPQInvRate</th>\n",
       "      <th>NPQRate</th>\n",
       "      <th>PQByesInvRate</th>\n",
       "      <th>PQBytes</th>\n",
       "      <th>PQBytesRate</th>\n",
       "      <th>qac_impl</th>\n",
       "      <th>nrows</th>\n",
       "      <th>nconv</th>\n",
       "      <th>log_type</th>\n",
       "      <th>collection</th>\n",
       "    </tr>\n",
       "  </thead>\n",
       "  <tbody>\n",
       "    <tr>\n",
       "      <th>0</th>\n",
       "      <td>1</td>\n",
       "      <td>2.511140</td>\n",
       "      <td>2.687500</td>\n",
       "      <td>ms</td>\n",
       "      <td>2.276260e-06</td>\n",
       "      <td>439318.000</td>\n",
       "      <td>69443</td>\n",
       "      <td>66885</td>\n",
       "      <td>0.000040</td>\n",
       "      <td>24887.40000</td>\n",
       "      <td>0.000004</td>\n",
       "      <td>651446.0</td>\n",
       "      <td>242399.0000</td>\n",
       "      <td>HTrie</td>\n",
       "      <td>512</td>\n",
       "      <td>10000</td>\n",
       "      <td>SynthLog</td>\n",
       "      <td>wiki</td>\n",
       "    </tr>\n",
       "    <tr>\n",
       "      <th>1</th>\n",
       "      <td>1</td>\n",
       "      <td>7.091980</td>\n",
       "      <td>7.187500</td>\n",
       "      <td>ms</td>\n",
       "      <td>3.992090e-06</td>\n",
       "      <td>250496.000</td>\n",
       "      <td>109721</td>\n",
       "      <td>66885</td>\n",
       "      <td>0.000107</td>\n",
       "      <td>9305.74000</td>\n",
       "      <td>0.000011</td>\n",
       "      <td>651446.0</td>\n",
       "      <td>90636.0000</td>\n",
       "      <td>HTrie</td>\n",
       "      <td>4096</td>\n",
       "      <td>10000</td>\n",
       "      <td>SynthLog</td>\n",
       "      <td>wiki</td>\n",
       "    </tr>\n",
       "    <tr>\n",
       "      <th>2</th>\n",
       "      <td>1</td>\n",
       "      <td>10.741500</td>\n",
       "      <td>10.875000</td>\n",
       "      <td>ms</td>\n",
       "      <td>4.180770e-06</td>\n",
       "      <td>239191.000</td>\n",
       "      <td>160225</td>\n",
       "      <td>66885</td>\n",
       "      <td>0.000163</td>\n",
       "      <td>6150.34000</td>\n",
       "      <td>0.000017</td>\n",
       "      <td>651446.0</td>\n",
       "      <td>59903.1000</td>\n",
       "      <td>HTrie</td>\n",
       "      <td>32768</td>\n",
       "      <td>10000</td>\n",
       "      <td>SynthLog</td>\n",
       "      <td>wiki</td>\n",
       "    </tr>\n",
       "    <tr>\n",
       "      <th>3</th>\n",
       "      <td>1</td>\n",
       "      <td>72.649800</td>\n",
       "      <td>72.953100</td>\n",
       "      <td>ms</td>\n",
       "      <td>2.060600e-05</td>\n",
       "      <td>48529.500</td>\n",
       "      <td>214272</td>\n",
       "      <td>66885</td>\n",
       "      <td>0.001091</td>\n",
       "      <td>916.82200</td>\n",
       "      <td>0.000112</td>\n",
       "      <td>651446.0</td>\n",
       "      <td>8929.6500</td>\n",
       "      <td>HTrie</td>\n",
       "      <td>262144</td>\n",
       "      <td>10000</td>\n",
       "      <td>SynthLog</td>\n",
       "      <td>wiki</td>\n",
       "    </tr>\n",
       "    <tr>\n",
       "      <th>4</th>\n",
       "      <td>1</td>\n",
       "      <td>764.199000</td>\n",
       "      <td>764.266000</td>\n",
       "      <td>ms</td>\n",
       "      <td>1.788960e-04</td>\n",
       "      <td>5589.840</td>\n",
       "      <td>263759</td>\n",
       "      <td>66885</td>\n",
       "      <td>0.011427</td>\n",
       "      <td>87.51540</td>\n",
       "      <td>0.001173</td>\n",
       "      <td>651446.0</td>\n",
       "      <td>852.3820</td>\n",
       "      <td>HTrie</td>\n",
       "      <td>2097152</td>\n",
       "      <td>10000</td>\n",
       "      <td>SynthLog</td>\n",
       "      <td>wiki</td>\n",
       "    </tr>\n",
       "    <tr>\n",
       "      <th>5</th>\n",
       "      <td>1</td>\n",
       "      <td>743.106000</td>\n",
       "      <td>743.156000</td>\n",
       "      <td>ms</td>\n",
       "      <td>1.739550e-04</td>\n",
       "      <td>5748.610</td>\n",
       "      <td>263759</td>\n",
       "      <td>66885</td>\n",
       "      <td>0.011111</td>\n",
       "      <td>90.00130</td>\n",
       "      <td>0.001141</td>\n",
       "      <td>651446.0</td>\n",
       "      <td>876.5940</td>\n",
       "      <td>HTrie</td>\n",
       "      <td>4560699</td>\n",
       "      <td>10000</td>\n",
       "      <td>SynthLog</td>\n",
       "      <td>wiki</td>\n",
       "    </tr>\n",
       "    <tr>\n",
       "      <th>6</th>\n",
       "      <td>1</td>\n",
       "      <td>4.804380</td>\n",
       "      <td>4.859380</td>\n",
       "      <td>ms</td>\n",
       "      <td>2.085170e-06</td>\n",
       "      <td>479578.000</td>\n",
       "      <td>133853</td>\n",
       "      <td>142539</td>\n",
       "      <td>0.000034</td>\n",
       "      <td>29332.80000</td>\n",
       "      <td>0.000003</td>\n",
       "      <td>1567470.0</td>\n",
       "      <td>322567.0000</td>\n",
       "      <td>HTrie</td>\n",
       "      <td>512</td>\n",
       "      <td>10000</td>\n",
       "      <td>LRLog</td>\n",
       "      <td>wiki</td>\n",
       "    </tr>\n",
       "    <tr>\n",
       "      <th>7</th>\n",
       "      <td>1</td>\n",
       "      <td>16.805600</td>\n",
       "      <td>16.968800</td>\n",
       "      <td>ms</td>\n",
       "      <td>4.513680e-06</td>\n",
       "      <td>221549.000</td>\n",
       "      <td>216440</td>\n",
       "      <td>142539</td>\n",
       "      <td>0.000119</td>\n",
       "      <td>8400.09000</td>\n",
       "      <td>0.000011</td>\n",
       "      <td>1567470.0</td>\n",
       "      <td>92374.2000</td>\n",
       "      <td>HTrie</td>\n",
       "      <td>4096</td>\n",
       "      <td>10000</td>\n",
       "      <td>LRLog</td>\n",
       "      <td>wiki</td>\n",
       "    </tr>\n",
       "    <tr>\n",
       "      <th>8</th>\n",
       "      <td>1</td>\n",
       "      <td>18.803300</td>\n",
       "      <td>18.890600</td>\n",
       "      <td>ms</td>\n",
       "      <td>3.495100e-06</td>\n",
       "      <td>286115.000</td>\n",
       "      <td>319360</td>\n",
       "      <td>142539</td>\n",
       "      <td>0.000133</td>\n",
       "      <td>7545.49000</td>\n",
       "      <td>0.000012</td>\n",
       "      <td>1567470.0</td>\n",
       "      <td>82976.3000</td>\n",
       "      <td>HTrie</td>\n",
       "      <td>32768</td>\n",
       "      <td>10000</td>\n",
       "      <td>LRLog</td>\n",
       "      <td>wiki</td>\n",
       "    </tr>\n",
       "    <tr>\n",
       "      <th>9</th>\n",
       "      <td>1</td>\n",
       "      <td>153.118000</td>\n",
       "      <td>153.656000</td>\n",
       "      <td>ms</td>\n",
       "      <td>2.141760e-05</td>\n",
       "      <td>46690.600</td>\n",
       "      <td>429685</td>\n",
       "      <td>142539</td>\n",
       "      <td>0.001078</td>\n",
       "      <td>927.64900</td>\n",
       "      <td>0.000098</td>\n",
       "      <td>1567470.0</td>\n",
       "      <td>10201.2000</td>\n",
       "      <td>HTrie</td>\n",
       "      <td>262144</td>\n",
       "      <td>10000</td>\n",
       "      <td>LRLog</td>\n",
       "      <td>wiki</td>\n",
       "    </tr>\n",
       "    <tr>\n",
       "      <th>10</th>\n",
       "      <td>1</td>\n",
       "      <td>1465.840000</td>\n",
       "      <td>1466.050000</td>\n",
       "      <td>ms</td>\n",
       "      <td>1.662520e-04</td>\n",
       "      <td>6014.950</td>\n",
       "      <td>525867</td>\n",
       "      <td>142539</td>\n",
       "      <td>0.010285</td>\n",
       "      <td>97.22680</td>\n",
       "      <td>0.000935</td>\n",
       "      <td>1567470.0</td>\n",
       "      <td>1069.1800</td>\n",
       "      <td>HTrie</td>\n",
       "      <td>2097152</td>\n",
       "      <td>10000</td>\n",
       "      <td>LRLog</td>\n",
       "      <td>wiki</td>\n",
       "    </tr>\n",
       "    <tr>\n",
       "      <th>11</th>\n",
       "      <td>1</td>\n",
       "      <td>1337.300000</td>\n",
       "      <td>1337.800000</td>\n",
       "      <td>ms</td>\n",
       "      <td>1.517090e-04</td>\n",
       "      <td>6591.580</td>\n",
       "      <td>525867</td>\n",
       "      <td>142539</td>\n",
       "      <td>0.009385</td>\n",
       "      <td>106.54800</td>\n",
       "      <td>0.000853</td>\n",
       "      <td>1567470.0</td>\n",
       "      <td>1171.6800</td>\n",
       "      <td>HTrie</td>\n",
       "      <td>4560699</td>\n",
       "      <td>10000</td>\n",
       "      <td>LRLog</td>\n",
       "      <td>wiki</td>\n",
       "    </tr>\n",
       "    <tr>\n",
       "      <th>12</th>\n",
       "      <td>1</td>\n",
       "      <td>1.095130</td>\n",
       "      <td>1.062500</td>\n",
       "      <td>ms</td>\n",
       "      <td>9.557030e-07</td>\n",
       "      <td>1046350.000</td>\n",
       "      <td>67771</td>\n",
       "      <td>66885</td>\n",
       "      <td>0.000016</td>\n",
       "      <td>62950.60000</td>\n",
       "      <td>0.000002</td>\n",
       "      <td>651446.0</td>\n",
       "      <td>613126.0000</td>\n",
       "      <td>Marisa</td>\n",
       "      <td>512</td>\n",
       "      <td>10000</td>\n",
       "      <td>SynthLog</td>\n",
       "      <td>wiki</td>\n",
       "    </tr>\n",
       "    <tr>\n",
       "      <th>13</th>\n",
       "      <td>1</td>\n",
       "      <td>2.035830</td>\n",
       "      <td>2.125000</td>\n",
       "      <td>ms</td>\n",
       "      <td>1.162910e-06</td>\n",
       "      <td>859909.000</td>\n",
       "      <td>109317</td>\n",
       "      <td>66885</td>\n",
       "      <td>0.000032</td>\n",
       "      <td>31475.30000</td>\n",
       "      <td>0.000003</td>\n",
       "      <td>651446.0</td>\n",
       "      <td>306563.0000</td>\n",
       "      <td>Marisa</td>\n",
       "      <td>4096</td>\n",
       "      <td>10000</td>\n",
       "      <td>SynthLog</td>\n",
       "      <td>wiki</td>\n",
       "    </tr>\n",
       "    <tr>\n",
       "      <th>14</th>\n",
       "      <td>1</td>\n",
       "      <td>8.315160</td>\n",
       "      <td>8.171880</td>\n",
       "      <td>ms</td>\n",
       "      <td>3.044750e-06</td>\n",
       "      <td>328434.000</td>\n",
       "      <td>161530</td>\n",
       "      <td>66885</td>\n",
       "      <td>0.000122</td>\n",
       "      <td>8184.78000</td>\n",
       "      <td>0.000013</td>\n",
       "      <td>651446.0</td>\n",
       "      <td>79718.1000</td>\n",
       "      <td>Marisa</td>\n",
       "      <td>32768</td>\n",
       "      <td>10000</td>\n",
       "      <td>SynthLog</td>\n",
       "      <td>wiki</td>\n",
       "    </tr>\n",
       "    <tr>\n",
       "      <th>15</th>\n",
       "      <td>1</td>\n",
       "      <td>59.603500</td>\n",
       "      <td>59.828100</td>\n",
       "      <td>ms</td>\n",
       "      <td>1.693300e-05</td>\n",
       "      <td>59056.400</td>\n",
       "      <td>214595</td>\n",
       "      <td>66885</td>\n",
       "      <td>0.000894</td>\n",
       "      <td>1117.95000</td>\n",
       "      <td>0.000092</td>\n",
       "      <td>651446.0</td>\n",
       "      <td>10888.6000</td>\n",
       "      <td>Marisa</td>\n",
       "      <td>262144</td>\n",
       "      <td>10000</td>\n",
       "      <td>SynthLog</td>\n",
       "      <td>wiki</td>\n",
       "    </tr>\n",
       "    <tr>\n",
       "      <th>16</th>\n",
       "      <td>1</td>\n",
       "      <td>344.125000</td>\n",
       "      <td>344.312000</td>\n",
       "      <td>ms</td>\n",
       "      <td>8.073320e-05</td>\n",
       "      <td>12386.500</td>\n",
       "      <td>263952</td>\n",
       "      <td>66885</td>\n",
       "      <td>0.005148</td>\n",
       "      <td>194.25700</td>\n",
       "      <td>0.000529</td>\n",
       "      <td>651446.0</td>\n",
       "      <td>1892.0200</td>\n",
       "      <td>Marisa</td>\n",
       "      <td>2097152</td>\n",
       "      <td>10000</td>\n",
       "      <td>SynthLog</td>\n",
       "      <td>wiki</td>\n",
       "    </tr>\n",
       "    <tr>\n",
       "      <th>17</th>\n",
       "      <td>1</td>\n",
       "      <td>361.871000</td>\n",
       "      <td>362.078000</td>\n",
       "      <td>ms</td>\n",
       "      <td>8.489890e-05</td>\n",
       "      <td>11778.700</td>\n",
       "      <td>263952</td>\n",
       "      <td>66885</td>\n",
       "      <td>0.005413</td>\n",
       "      <td>184.72500</td>\n",
       "      <td>0.000556</td>\n",
       "      <td>651446.0</td>\n",
       "      <td>1799.1900</td>\n",
       "      <td>Marisa</td>\n",
       "      <td>4560699</td>\n",
       "      <td>10000</td>\n",
       "      <td>SynthLog</td>\n",
       "      <td>wiki</td>\n",
       "    </tr>\n",
       "    <tr>\n",
       "      <th>18</th>\n",
       "      <td>1</td>\n",
       "      <td>2.657800</td>\n",
       "      <td>2.656250</td>\n",
       "      <td>ms</td>\n",
       "      <td>1.261790e-06</td>\n",
       "      <td>792526.000</td>\n",
       "      <td>128201</td>\n",
       "      <td>142539</td>\n",
       "      <td>0.000019</td>\n",
       "      <td>53661.70000</td>\n",
       "      <td>0.000002</td>\n",
       "      <td>1567470.0</td>\n",
       "      <td>590108.0000</td>\n",
       "      <td>Marisa</td>\n",
       "      <td>512</td>\n",
       "      <td>10000</td>\n",
       "      <td>LRLog</td>\n",
       "      <td>wiki</td>\n",
       "    </tr>\n",
       "    <tr>\n",
       "      <th>19</th>\n",
       "      <td>1</td>\n",
       "      <td>4.513590</td>\n",
       "      <td>4.671880</td>\n",
       "      <td>ms</td>\n",
       "      <td>1.297890e-06</td>\n",
       "      <td>770481.000</td>\n",
       "      <td>215103</td>\n",
       "      <td>142539</td>\n",
       "      <td>0.000033</td>\n",
       "      <td>30510.00000</td>\n",
       "      <td>0.000003</td>\n",
       "      <td>1567470.0</td>\n",
       "      <td>335513.0000</td>\n",
       "      <td>Marisa</td>\n",
       "      <td>4096</td>\n",
       "      <td>10000</td>\n",
       "      <td>LRLog</td>\n",
       "      <td>wiki</td>\n",
       "    </tr>\n",
       "    <tr>\n",
       "      <th>20</th>\n",
       "      <td>1</td>\n",
       "      <td>16.405100</td>\n",
       "      <td>16.546900</td>\n",
       "      <td>ms</td>\n",
       "      <td>3.032530e-06</td>\n",
       "      <td>329758.000</td>\n",
       "      <td>317713</td>\n",
       "      <td>142539</td>\n",
       "      <td>0.000116</td>\n",
       "      <td>8614.25000</td>\n",
       "      <td>0.000011</td>\n",
       "      <td>1567470.0</td>\n",
       "      <td>94729.3000</td>\n",
       "      <td>Marisa</td>\n",
       "      <td>32768</td>\n",
       "      <td>10000</td>\n",
       "      <td>LRLog</td>\n",
       "      <td>wiki</td>\n",
       "    </tr>\n",
       "    <tr>\n",
       "      <th>21</th>\n",
       "      <td>1</td>\n",
       "      <td>96.589300</td>\n",
       "      <td>96.656200</td>\n",
       "      <td>ms</td>\n",
       "      <td>1.335530e-05</td>\n",
       "      <td>74876.400</td>\n",
       "      <td>428433</td>\n",
       "      <td>142539</td>\n",
       "      <td>0.000678</td>\n",
       "      <td>1474.70000</td>\n",
       "      <td>0.000062</td>\n",
       "      <td>1567470.0</td>\n",
       "      <td>16217.0000</td>\n",
       "      <td>Marisa</td>\n",
       "      <td>262144</td>\n",
       "      <td>10000</td>\n",
       "      <td>LRLog</td>\n",
       "      <td>wiki</td>\n",
       "    </tr>\n",
       "    <tr>\n",
       "      <th>22</th>\n",
       "      <td>1</td>\n",
       "      <td>681.827000</td>\n",
       "      <td>682.406000</td>\n",
       "      <td>ms</td>\n",
       "      <td>7.764460e-05</td>\n",
       "      <td>12879.200</td>\n",
       "      <td>526360</td>\n",
       "      <td>142539</td>\n",
       "      <td>0.004788</td>\n",
       "      <td>208.87700</td>\n",
       "      <td>0.000435</td>\n",
       "      <td>1567470.0</td>\n",
       "      <td>2296.9800</td>\n",
       "      <td>Marisa</td>\n",
       "      <td>2097152</td>\n",
       "      <td>10000</td>\n",
       "      <td>LRLog</td>\n",
       "      <td>wiki</td>\n",
       "    </tr>\n",
       "    <tr>\n",
       "      <th>23</th>\n",
       "      <td>1</td>\n",
       "      <td>701.677000</td>\n",
       "      <td>701.875000</td>\n",
       "      <td>ms</td>\n",
       "      <td>7.985980e-05</td>\n",
       "      <td>12522.000</td>\n",
       "      <td>526360</td>\n",
       "      <td>142539</td>\n",
       "      <td>0.004924</td>\n",
       "      <td>203.08300</td>\n",
       "      <td>0.000448</td>\n",
       "      <td>1567470.0</td>\n",
       "      <td>2233.2700</td>\n",
       "      <td>Marisa</td>\n",
       "      <td>4560699</td>\n",
       "      <td>10000</td>\n",
       "      <td>LRLog</td>\n",
       "      <td>wiki</td>\n",
       "    </tr>\n",
       "    <tr>\n",
       "      <th>24</th>\n",
       "      <td>1</td>\n",
       "      <td>0.895994</td>\n",
       "      <td>0.937500</td>\n",
       "      <td>ms</td>\n",
       "      <td>9.144380e-07</td>\n",
       "      <td>1093570.000</td>\n",
       "      <td>59922</td>\n",
       "      <td>66885</td>\n",
       "      <td>0.000014</td>\n",
       "      <td>71344.00000</td>\n",
       "      <td>0.000001</td>\n",
       "      <td>651446.0</td>\n",
       "      <td>694876.0000</td>\n",
       "      <td>DAWG</td>\n",
       "      <td>512</td>\n",
       "      <td>10000</td>\n",
       "      <td>SynthLog</td>\n",
       "      <td>wiki</td>\n",
       "    </tr>\n",
       "    <tr>\n",
       "      <th>25</th>\n",
       "      <td>1</td>\n",
       "      <td>0.948268</td>\n",
       "      <td>0.921875</td>\n",
       "      <td>ms</td>\n",
       "      <td>5.629920e-07</td>\n",
       "      <td>1776220.000</td>\n",
       "      <td>98881</td>\n",
       "      <td>66885</td>\n",
       "      <td>0.000014</td>\n",
       "      <td>72553.20000</td>\n",
       "      <td>0.000001</td>\n",
       "      <td>651446.0</td>\n",
       "      <td>706653.0000</td>\n",
       "      <td>DAWG</td>\n",
       "      <td>4096</td>\n",
       "      <td>10000</td>\n",
       "      <td>SynthLog</td>\n",
       "      <td>wiki</td>\n",
       "    </tr>\n",
       "    <tr>\n",
       "      <th>26</th>\n",
       "      <td>1</td>\n",
       "      <td>1.025910</td>\n",
       "      <td>1.015620</td>\n",
       "      <td>ms</td>\n",
       "      <td>4.286990e-07</td>\n",
       "      <td>2332640.000</td>\n",
       "      <td>143495</td>\n",
       "      <td>66885</td>\n",
       "      <td>0.000015</td>\n",
       "      <td>65856.00000</td>\n",
       "      <td>0.000002</td>\n",
       "      <td>651446.0</td>\n",
       "      <td>641424.0000</td>\n",
       "      <td>DAWG</td>\n",
       "      <td>32768</td>\n",
       "      <td>10000</td>\n",
       "      <td>SynthLog</td>\n",
       "      <td>wiki</td>\n",
       "    </tr>\n",
       "    <tr>\n",
       "      <th>27</th>\n",
       "      <td>1</td>\n",
       "      <td>1.151960</td>\n",
       "      <td>1.125000</td>\n",
       "      <td>ms</td>\n",
       "      <td>3.613070e-07</td>\n",
       "      <td>2767730.000</td>\n",
       "      <td>190556</td>\n",
       "      <td>66885</td>\n",
       "      <td>0.000017</td>\n",
       "      <td>59453.30000</td>\n",
       "      <td>0.000002</td>\n",
       "      <td>651446.0</td>\n",
       "      <td>579063.0000</td>\n",
       "      <td>DAWG</td>\n",
       "      <td>262144</td>\n",
       "      <td>10000</td>\n",
       "      <td>SynthLog</td>\n",
       "      <td>wiki</td>\n",
       "    </tr>\n",
       "    <tr>\n",
       "      <th>28</th>\n",
       "      <td>1</td>\n",
       "      <td>2.008490</td>\n",
       "      <td>2.109380</td>\n",
       "      <td>ms</td>\n",
       "      <td>5.572010e-07</td>\n",
       "      <td>1794690.000</td>\n",
       "      <td>233568</td>\n",
       "      <td>66885</td>\n",
       "      <td>0.000032</td>\n",
       "      <td>31708.40000</td>\n",
       "      <td>0.000003</td>\n",
       "      <td>651446.0</td>\n",
       "      <td>308834.0000</td>\n",
       "      <td>DAWG</td>\n",
       "      <td>2097152</td>\n",
       "      <td>10000</td>\n",
       "      <td>SynthLog</td>\n",
       "      <td>wiki</td>\n",
       "    </tr>\n",
       "    <tr>\n",
       "      <th>29</th>\n",
       "      <td>1</td>\n",
       "      <td>1.395560</td>\n",
       "      <td>1.578120</td>\n",
       "      <td>ms</td>\n",
       "      <td>4.168690e-07</td>\n",
       "      <td>2398840.000</td>\n",
       "      <td>233568</td>\n",
       "      <td>66885</td>\n",
       "      <td>0.000024</td>\n",
       "      <td>42382.60000</td>\n",
       "      <td>0.000002</td>\n",
       "      <td>651446.0</td>\n",
       "      <td>412797.0000</td>\n",
       "      <td>DAWG</td>\n",
       "      <td>4560699</td>\n",
       "      <td>10000</td>\n",
       "      <td>SynthLog</td>\n",
       "      <td>wiki</td>\n",
       "    </tr>\n",
       "    <tr>\n",
       "      <th>30</th>\n",
       "      <td>1</td>\n",
       "      <td>2.412250</td>\n",
       "      <td>2.437500</td>\n",
       "      <td>ms</td>\n",
       "      <td>1.153320e-06</td>\n",
       "      <td>867060.000</td>\n",
       "      <td>123380</td>\n",
       "      <td>142539</td>\n",
       "      <td>0.000017</td>\n",
       "      <td>58477.50000</td>\n",
       "      <td>0.000002</td>\n",
       "      <td>1567470.0</td>\n",
       "      <td>643066.0000</td>\n",
       "      <td>DAWG</td>\n",
       "      <td>512</td>\n",
       "      <td>10000</td>\n",
       "      <td>LRLog</td>\n",
       "      <td>wiki</td>\n",
       "    </tr>\n",
       "    <tr>\n",
       "      <th>31</th>\n",
       "      <td>1</td>\n",
       "      <td>2.238190</td>\n",
       "      <td>2.171880</td>\n",
       "      <td>ms</td>\n",
       "      <td>6.426110e-07</td>\n",
       "      <td>1556150.000</td>\n",
       "      <td>192846</td>\n",
       "      <td>142539</td>\n",
       "      <td>0.000015</td>\n",
       "      <td>65629.50000</td>\n",
       "      <td>0.000001</td>\n",
       "      <td>1567470.0</td>\n",
       "      <td>721715.0000</td>\n",
       "      <td>DAWG</td>\n",
       "      <td>4096</td>\n",
       "      <td>10000</td>\n",
       "      <td>LRLog</td>\n",
       "      <td>wiki</td>\n",
       "    </tr>\n",
       "    <tr>\n",
       "      <th>32</th>\n",
       "      <td>1</td>\n",
       "      <td>2.399150</td>\n",
       "      <td>2.453120</td>\n",
       "      <td>ms</td>\n",
       "      <td>5.061030e-07</td>\n",
       "      <td>1975880.000</td>\n",
       "      <td>285180</td>\n",
       "      <td>142539</td>\n",
       "      <td>0.000017</td>\n",
       "      <td>58105.10000</td>\n",
       "      <td>0.000002</td>\n",
       "      <td>1567470.0</td>\n",
       "      <td>638970.0000</td>\n",
       "      <td>DAWG</td>\n",
       "      <td>32768</td>\n",
       "      <td>10000</td>\n",
       "      <td>LRLog</td>\n",
       "      <td>wiki</td>\n",
       "    </tr>\n",
       "    <tr>\n",
       "      <th>33</th>\n",
       "      <td>1</td>\n",
       "      <td>2.482540</td>\n",
       "      <td>2.500000</td>\n",
       "      <td>ms</td>\n",
       "      <td>3.932460e-07</td>\n",
       "      <td>2542940.000</td>\n",
       "      <td>380971</td>\n",
       "      <td>142539</td>\n",
       "      <td>0.000018</td>\n",
       "      <td>57015.60000</td>\n",
       "      <td>0.000002</td>\n",
       "      <td>1567470.0</td>\n",
       "      <td>626990.0000</td>\n",
       "      <td>DAWG</td>\n",
       "      <td>262144</td>\n",
       "      <td>10000</td>\n",
       "      <td>LRLog</td>\n",
       "      <td>wiki</td>\n",
       "    </tr>\n",
       "    <tr>\n",
       "      <th>34</th>\n",
       "      <td>1</td>\n",
       "      <td>2.829760</td>\n",
       "      <td>2.968750</td>\n",
       "      <td>ms</td>\n",
       "      <td>3.836540e-07</td>\n",
       "      <td>2606510.000</td>\n",
       "      <td>464782</td>\n",
       "      <td>142539</td>\n",
       "      <td>0.000021</td>\n",
       "      <td>48013.10000</td>\n",
       "      <td>0.000002</td>\n",
       "      <td>1567470.0</td>\n",
       "      <td>527991.0000</td>\n",
       "      <td>DAWG</td>\n",
       "      <td>2097152</td>\n",
       "      <td>10000</td>\n",
       "      <td>LRLog</td>\n",
       "      <td>wiki</td>\n",
       "    </tr>\n",
       "    <tr>\n",
       "      <th>35</th>\n",
       "      <td>1</td>\n",
       "      <td>3.047160</td>\n",
       "      <td>3.031250</td>\n",
       "      <td>ms</td>\n",
       "      <td>3.917310e-07</td>\n",
       "      <td>2552770.000</td>\n",
       "      <td>464782</td>\n",
       "      <td>142539</td>\n",
       "      <td>0.000021</td>\n",
       "      <td>47023.20000</td>\n",
       "      <td>0.000002</td>\n",
       "      <td>1567470.0</td>\n",
       "      <td>517105.0000</td>\n",
       "      <td>DAWG</td>\n",
       "      <td>4560699</td>\n",
       "      <td>10000</td>\n",
       "      <td>LRLog</td>\n",
       "      <td>wiki</td>\n",
       "    </tr>\n",
       "    <tr>\n",
       "      <th>36</th>\n",
       "      <td>1</td>\n",
       "      <td>2.301970</td>\n",
       "      <td>2.125000</td>\n",
       "      <td>ms</td>\n",
       "      <td>1.035760e-06</td>\n",
       "      <td>965473.000</td>\n",
       "      <td>135468</td>\n",
       "      <td>66885</td>\n",
       "      <td>0.000032</td>\n",
       "      <td>31475.30000</td>\n",
       "      <td>0.000003</td>\n",
       "      <td>651446.0</td>\n",
       "      <td>306563.0000</td>\n",
       "      <td>IncNgTrie</td>\n",
       "      <td>512</td>\n",
       "      <td>10000</td>\n",
       "      <td>SynthLog</td>\n",
       "      <td>wiki</td>\n",
       "    </tr>\n",
       "    <tr>\n",
       "      <th>37</th>\n",
       "      <td>1</td>\n",
       "      <td>9.808790</td>\n",
       "      <td>9.796880</td>\n",
       "      <td>ms</td>\n",
       "      <td>3.503440e-06</td>\n",
       "      <td>285434.000</td>\n",
       "      <td>181007</td>\n",
       "      <td>66885</td>\n",
       "      <td>0.000146</td>\n",
       "      <td>6827.18000</td>\n",
       "      <td>0.000015</td>\n",
       "      <td>651446.0</td>\n",
       "      <td>66495.3000</td>\n",
       "      <td>IncNgTrie</td>\n",
       "      <td>4096</td>\n",
       "      <td>10000</td>\n",
       "      <td>SynthLog</td>\n",
       "      <td>wiki</td>\n",
       "    </tr>\n",
       "    <tr>\n",
       "      <th>38</th>\n",
       "      <td>1</td>\n",
       "      <td>73.980900</td>\n",
       "      <td>74.140600</td>\n",
       "      <td>ms</td>\n",
       "      <td>2.036850e-05</td>\n",
       "      <td>49095.300</td>\n",
       "      <td>229431</td>\n",
       "      <td>66885</td>\n",
       "      <td>0.001108</td>\n",
       "      <td>902.13700</td>\n",
       "      <td>0.000114</td>\n",
       "      <td>651446.0</td>\n",
       "      <td>8786.6300</td>\n",
       "      <td>IncNgTrie</td>\n",
       "      <td>32768</td>\n",
       "      <td>10000</td>\n",
       "      <td>SynthLog</td>\n",
       "      <td>wiki</td>\n",
       "    </tr>\n",
       "    <tr>\n",
       "      <th>39</th>\n",
       "      <td>1</td>\n",
       "      <td>1306.400000</td>\n",
       "      <td>1306.950000</td>\n",
       "      <td>ms</td>\n",
       "      <td>2.982670e-04</td>\n",
       "      <td>3352.710</td>\n",
       "      <td>277077</td>\n",
       "      <td>66885</td>\n",
       "      <td>0.019540</td>\n",
       "      <td>51.17630</td>\n",
       "      <td>0.002006</td>\n",
       "      <td>651446.0</td>\n",
       "      <td>498.4460</td>\n",
       "      <td>IncNgTrie</td>\n",
       "      <td>262144</td>\n",
       "      <td>10000</td>\n",
       "      <td>SynthLog</td>\n",
       "      <td>wiki</td>\n",
       "    </tr>\n",
       "    <tr>\n",
       "      <th>40</th>\n",
       "      <td>1</td>\n",
       "      <td>11819.200000</td>\n",
       "      <td>11820.100000</td>\n",
       "      <td>ms</td>\n",
       "      <td>2.345670e-03</td>\n",
       "      <td>426.317</td>\n",
       "      <td>319711</td>\n",
       "      <td>66885</td>\n",
       "      <td>0.176722</td>\n",
       "      <td>5.65860</td>\n",
       "      <td>0.018144</td>\n",
       "      <td>651446.0</td>\n",
       "      <td>55.1136</td>\n",
       "      <td>IncNgTrie</td>\n",
       "      <td>2097152</td>\n",
       "      <td>10000</td>\n",
       "      <td>SynthLog</td>\n",
       "      <td>wiki</td>\n",
       "    </tr>\n",
       "    <tr>\n",
       "      <th>41</th>\n",
       "      <td>1</td>\n",
       "      <td>14777.700000</td>\n",
       "      <td>14778.700000</td>\n",
       "      <td>ms</td>\n",
       "      <td>2.932820e-03</td>\n",
       "      <td>340.969</td>\n",
       "      <td>319711</td>\n",
       "      <td>66885</td>\n",
       "      <td>0.220957</td>\n",
       "      <td>4.52576</td>\n",
       "      <td>0.022686</td>\n",
       "      <td>651446.0</td>\n",
       "      <td>44.0800</td>\n",
       "      <td>IncNgTrie</td>\n",
       "      <td>4560699</td>\n",
       "      <td>10000</td>\n",
       "      <td>SynthLog</td>\n",
       "      <td>wiki</td>\n",
       "    </tr>\n",
       "    <tr>\n",
       "      <th>42</th>\n",
       "      <td>1</td>\n",
       "      <td>4.586450</td>\n",
       "      <td>4.750000</td>\n",
       "      <td>ms</td>\n",
       "      <td>1.154010e-06</td>\n",
       "      <td>866547.000</td>\n",
       "      <td>258401</td>\n",
       "      <td>142539</td>\n",
       "      <td>0.000033</td>\n",
       "      <td>30008.20000</td>\n",
       "      <td>0.000003</td>\n",
       "      <td>1567470.0</td>\n",
       "      <td>329995.0000</td>\n",
       "      <td>IncNgTrie</td>\n",
       "      <td>512</td>\n",
       "      <td>10000</td>\n",
       "      <td>LRLog</td>\n",
       "      <td>wiki</td>\n",
       "    </tr>\n",
       "    <tr>\n",
       "      <th>43</th>\n",
       "      <td>1</td>\n",
       "      <td>19.197400</td>\n",
       "      <td>19.000000</td>\n",
       "      <td>ms</td>\n",
       "      <td>3.122530e-06</td>\n",
       "      <td>320253.000</td>\n",
       "      <td>348133</td>\n",
       "      <td>142539</td>\n",
       "      <td>0.000133</td>\n",
       "      <td>7502.05000</td>\n",
       "      <td>0.000012</td>\n",
       "      <td>1567470.0</td>\n",
       "      <td>82498.6000</td>\n",
       "      <td>IncNgTrie</td>\n",
       "      <td>4096</td>\n",
       "      <td>10000</td>\n",
       "      <td>LRLog</td>\n",
       "      <td>wiki</td>\n",
       "    </tr>\n",
       "    <tr>\n",
       "      <th>44</th>\n",
       "      <td>1</td>\n",
       "      <td>143.652000</td>\n",
       "      <td>143.547000</td>\n",
       "      <td>ms</td>\n",
       "      <td>2.059760e-05</td>\n",
       "      <td>48549.400</td>\n",
       "      <td>444437</td>\n",
       "      <td>142539</td>\n",
       "      <td>0.001007</td>\n",
       "      <td>992.97900</td>\n",
       "      <td>0.000092</td>\n",
       "      <td>1567470.0</td>\n",
       "      <td>10919.6000</td>\n",
       "      <td>IncNgTrie</td>\n",
       "      <td>32768</td>\n",
       "      <td>10000</td>\n",
       "      <td>LRLog</td>\n",
       "      <td>wiki</td>\n",
       "    </tr>\n",
       "    <tr>\n",
       "      <th>45</th>\n",
       "      <td>1</td>\n",
       "      <td>3179.420000</td>\n",
       "      <td>3180.310000</td>\n",
       "      <td>ms</td>\n",
       "      <td>3.658800e-04</td>\n",
       "      <td>2733.130</td>\n",
       "      <td>545920</td>\n",
       "      <td>142539</td>\n",
       "      <td>0.022312</td>\n",
       "      <td>44.81920</td>\n",
       "      <td>0.002029</td>\n",
       "      <td>1567470.0</td>\n",
       "      <td>492.8680</td>\n",
       "      <td>IncNgTrie</td>\n",
       "      <td>262144</td>\n",
       "      <td>10000</td>\n",
       "      <td>LRLog</td>\n",
       "      <td>wiki</td>\n",
       "    </tr>\n",
       "    <tr>\n",
       "      <th>46</th>\n",
       "      <td>1</td>\n",
       "      <td>27844.600000</td>\n",
       "      <td>27846.700000</td>\n",
       "      <td>ms</td>\n",
       "      <td>2.737580e-03</td>\n",
       "      <td>365.286</td>\n",
       "      <td>631211</td>\n",
       "      <td>142539</td>\n",
       "      <td>0.195362</td>\n",
       "      <td>5.11871</td>\n",
       "      <td>0.017765</td>\n",
       "      <td>1567470.0</td>\n",
       "      <td>56.2895</td>\n",
       "      <td>IncNgTrie</td>\n",
       "      <td>2097152</td>\n",
       "      <td>10000</td>\n",
       "      <td>LRLog</td>\n",
       "      <td>wiki</td>\n",
       "    </tr>\n",
       "    <tr>\n",
       "      <th>47</th>\n",
       "      <td>1</td>\n",
       "      <td>28573.600000</td>\n",
       "      <td>28575.500000</td>\n",
       "      <td>ms</td>\n",
       "      <td>2.809240e-03</td>\n",
       "      <td>355.969</td>\n",
       "      <td>631211</td>\n",
       "      <td>142539</td>\n",
       "      <td>0.200475</td>\n",
       "      <td>4.98815</td>\n",
       "      <td>0.018230</td>\n",
       "      <td>1567470.0</td>\n",
       "      <td>54.8537</td>\n",
       "      <td>IncNgTrie</td>\n",
       "      <td>4560699</td>\n",
       "      <td>10000</td>\n",
       "      <td>LRLog</td>\n",
       "      <td>wiki</td>\n",
       "    </tr>\n",
       "  </tbody>\n",
       "</table>\n",
       "</div>"
      ],
      "text/plain": [
       "    iterations     real_time      cpu_time time_unit  CompByesInvRate  \\\n",
       "0            1      2.511140      2.687500        ms     2.276260e-06   \n",
       "1            1      7.091980      7.187500        ms     3.992090e-06   \n",
       "2            1     10.741500     10.875000        ms     4.180770e-06   \n",
       "3            1     72.649800     72.953100        ms     2.060600e-05   \n",
       "4            1    764.199000    764.266000        ms     1.788960e-04   \n",
       "5            1    743.106000    743.156000        ms     1.739550e-04   \n",
       "6            1      4.804380      4.859380        ms     2.085170e-06   \n",
       "7            1     16.805600     16.968800        ms     4.513680e-06   \n",
       "8            1     18.803300     18.890600        ms     3.495100e-06   \n",
       "9            1    153.118000    153.656000        ms     2.141760e-05   \n",
       "10           1   1465.840000   1466.050000        ms     1.662520e-04   \n",
       "11           1   1337.300000   1337.800000        ms     1.517090e-04   \n",
       "12           1      1.095130      1.062500        ms     9.557030e-07   \n",
       "13           1      2.035830      2.125000        ms     1.162910e-06   \n",
       "14           1      8.315160      8.171880        ms     3.044750e-06   \n",
       "15           1     59.603500     59.828100        ms     1.693300e-05   \n",
       "16           1    344.125000    344.312000        ms     8.073320e-05   \n",
       "17           1    361.871000    362.078000        ms     8.489890e-05   \n",
       "18           1      2.657800      2.656250        ms     1.261790e-06   \n",
       "19           1      4.513590      4.671880        ms     1.297890e-06   \n",
       "20           1     16.405100     16.546900        ms     3.032530e-06   \n",
       "21           1     96.589300     96.656200        ms     1.335530e-05   \n",
       "22           1    681.827000    682.406000        ms     7.764460e-05   \n",
       "23           1    701.677000    701.875000        ms     7.985980e-05   \n",
       "24           1      0.895994      0.937500        ms     9.144380e-07   \n",
       "25           1      0.948268      0.921875        ms     5.629920e-07   \n",
       "26           1      1.025910      1.015620        ms     4.286990e-07   \n",
       "27           1      1.151960      1.125000        ms     3.613070e-07   \n",
       "28           1      2.008490      2.109380        ms     5.572010e-07   \n",
       "29           1      1.395560      1.578120        ms     4.168690e-07   \n",
       "30           1      2.412250      2.437500        ms     1.153320e-06   \n",
       "31           1      2.238190      2.171880        ms     6.426110e-07   \n",
       "32           1      2.399150      2.453120        ms     5.061030e-07   \n",
       "33           1      2.482540      2.500000        ms     3.932460e-07   \n",
       "34           1      2.829760      2.968750        ms     3.836540e-07   \n",
       "35           1      3.047160      3.031250        ms     3.917310e-07   \n",
       "36           1      2.301970      2.125000        ms     1.035760e-06   \n",
       "37           1      9.808790      9.796880        ms     3.503440e-06   \n",
       "38           1     73.980900     74.140600        ms     2.036850e-05   \n",
       "39           1   1306.400000   1306.950000        ms     2.982670e-04   \n",
       "40           1  11819.200000  11820.100000        ms     2.345670e-03   \n",
       "41           1  14777.700000  14778.700000        ms     2.932820e-03   \n",
       "42           1      4.586450      4.750000        ms     1.154010e-06   \n",
       "43           1     19.197400     19.000000        ms     3.122530e-06   \n",
       "44           1    143.652000    143.547000        ms     2.059760e-05   \n",
       "45           1   3179.420000   3180.310000        ms     3.658800e-04   \n",
       "46           1  27844.600000  27846.700000        ms     2.737580e-03   \n",
       "47           1  28573.600000  28575.500000        ms     2.809240e-03   \n",
       "\n",
       "    CompBytesRate   NComp     NPQ  NPQInvRate      NPQRate  PQByesInvRate  \\\n",
       "0      439318.000   69443   66885    0.000040  24887.40000       0.000004   \n",
       "1      250496.000  109721   66885    0.000107   9305.74000       0.000011   \n",
       "2      239191.000  160225   66885    0.000163   6150.34000       0.000017   \n",
       "3       48529.500  214272   66885    0.001091    916.82200       0.000112   \n",
       "4        5589.840  263759   66885    0.011427     87.51540       0.001173   \n",
       "5        5748.610  263759   66885    0.011111     90.00130       0.001141   \n",
       "6      479578.000  133853  142539    0.000034  29332.80000       0.000003   \n",
       "7      221549.000  216440  142539    0.000119   8400.09000       0.000011   \n",
       "8      286115.000  319360  142539    0.000133   7545.49000       0.000012   \n",
       "9       46690.600  429685  142539    0.001078    927.64900       0.000098   \n",
       "10       6014.950  525867  142539    0.010285     97.22680       0.000935   \n",
       "11       6591.580  525867  142539    0.009385    106.54800       0.000853   \n",
       "12    1046350.000   67771   66885    0.000016  62950.60000       0.000002   \n",
       "13     859909.000  109317   66885    0.000032  31475.30000       0.000003   \n",
       "14     328434.000  161530   66885    0.000122   8184.78000       0.000013   \n",
       "15      59056.400  214595   66885    0.000894   1117.95000       0.000092   \n",
       "16      12386.500  263952   66885    0.005148    194.25700       0.000529   \n",
       "17      11778.700  263952   66885    0.005413    184.72500       0.000556   \n",
       "18     792526.000  128201  142539    0.000019  53661.70000       0.000002   \n",
       "19     770481.000  215103  142539    0.000033  30510.00000       0.000003   \n",
       "20     329758.000  317713  142539    0.000116   8614.25000       0.000011   \n",
       "21      74876.400  428433  142539    0.000678   1474.70000       0.000062   \n",
       "22      12879.200  526360  142539    0.004788    208.87700       0.000435   \n",
       "23      12522.000  526360  142539    0.004924    203.08300       0.000448   \n",
       "24    1093570.000   59922   66885    0.000014  71344.00000       0.000001   \n",
       "25    1776220.000   98881   66885    0.000014  72553.20000       0.000001   \n",
       "26    2332640.000  143495   66885    0.000015  65856.00000       0.000002   \n",
       "27    2767730.000  190556   66885    0.000017  59453.30000       0.000002   \n",
       "28    1794690.000  233568   66885    0.000032  31708.40000       0.000003   \n",
       "29    2398840.000  233568   66885    0.000024  42382.60000       0.000002   \n",
       "30     867060.000  123380  142539    0.000017  58477.50000       0.000002   \n",
       "31    1556150.000  192846  142539    0.000015  65629.50000       0.000001   \n",
       "32    1975880.000  285180  142539    0.000017  58105.10000       0.000002   \n",
       "33    2542940.000  380971  142539    0.000018  57015.60000       0.000002   \n",
       "34    2606510.000  464782  142539    0.000021  48013.10000       0.000002   \n",
       "35    2552770.000  464782  142539    0.000021  47023.20000       0.000002   \n",
       "36     965473.000  135468   66885    0.000032  31475.30000       0.000003   \n",
       "37     285434.000  181007   66885    0.000146   6827.18000       0.000015   \n",
       "38      49095.300  229431   66885    0.001108    902.13700       0.000114   \n",
       "39       3352.710  277077   66885    0.019540     51.17630       0.002006   \n",
       "40        426.317  319711   66885    0.176722      5.65860       0.018144   \n",
       "41        340.969  319711   66885    0.220957      4.52576       0.022686   \n",
       "42     866547.000  258401  142539    0.000033  30008.20000       0.000003   \n",
       "43     320253.000  348133  142539    0.000133   7502.05000       0.000012   \n",
       "44      48549.400  444437  142539    0.001007    992.97900       0.000092   \n",
       "45       2733.130  545920  142539    0.022312     44.81920       0.002029   \n",
       "46        365.286  631211  142539    0.195362      5.11871       0.017765   \n",
       "47        355.969  631211  142539    0.200475      4.98815       0.018230   \n",
       "\n",
       "      PQBytes  PQBytesRate   qac_impl    nrows  nconv  log_type collection  \n",
       "0    651446.0  242399.0000      HTrie      512  10000  SynthLog       wiki  \n",
       "1    651446.0   90636.0000      HTrie     4096  10000  SynthLog       wiki  \n",
       "2    651446.0   59903.1000      HTrie    32768  10000  SynthLog       wiki  \n",
       "3    651446.0    8929.6500      HTrie   262144  10000  SynthLog       wiki  \n",
       "4    651446.0     852.3820      HTrie  2097152  10000  SynthLog       wiki  \n",
       "5    651446.0     876.5940      HTrie  4560699  10000  SynthLog       wiki  \n",
       "6   1567470.0  322567.0000      HTrie      512  10000     LRLog       wiki  \n",
       "7   1567470.0   92374.2000      HTrie     4096  10000     LRLog       wiki  \n",
       "8   1567470.0   82976.3000      HTrie    32768  10000     LRLog       wiki  \n",
       "9   1567470.0   10201.2000      HTrie   262144  10000     LRLog       wiki  \n",
       "10  1567470.0    1069.1800      HTrie  2097152  10000     LRLog       wiki  \n",
       "11  1567470.0    1171.6800      HTrie  4560699  10000     LRLog       wiki  \n",
       "12   651446.0  613126.0000     Marisa      512  10000  SynthLog       wiki  \n",
       "13   651446.0  306563.0000     Marisa     4096  10000  SynthLog       wiki  \n",
       "14   651446.0   79718.1000     Marisa    32768  10000  SynthLog       wiki  \n",
       "15   651446.0   10888.6000     Marisa   262144  10000  SynthLog       wiki  \n",
       "16   651446.0    1892.0200     Marisa  2097152  10000  SynthLog       wiki  \n",
       "17   651446.0    1799.1900     Marisa  4560699  10000  SynthLog       wiki  \n",
       "18  1567470.0  590108.0000     Marisa      512  10000     LRLog       wiki  \n",
       "19  1567470.0  335513.0000     Marisa     4096  10000     LRLog       wiki  \n",
       "20  1567470.0   94729.3000     Marisa    32768  10000     LRLog       wiki  \n",
       "21  1567470.0   16217.0000     Marisa   262144  10000     LRLog       wiki  \n",
       "22  1567470.0    2296.9800     Marisa  2097152  10000     LRLog       wiki  \n",
       "23  1567470.0    2233.2700     Marisa  4560699  10000     LRLog       wiki  \n",
       "24   651446.0  694876.0000       DAWG      512  10000  SynthLog       wiki  \n",
       "25   651446.0  706653.0000       DAWG     4096  10000  SynthLog       wiki  \n",
       "26   651446.0  641424.0000       DAWG    32768  10000  SynthLog       wiki  \n",
       "27   651446.0  579063.0000       DAWG   262144  10000  SynthLog       wiki  \n",
       "28   651446.0  308834.0000       DAWG  2097152  10000  SynthLog       wiki  \n",
       "29   651446.0  412797.0000       DAWG  4560699  10000  SynthLog       wiki  \n",
       "30  1567470.0  643066.0000       DAWG      512  10000     LRLog       wiki  \n",
       "31  1567470.0  721715.0000       DAWG     4096  10000     LRLog       wiki  \n",
       "32  1567470.0  638970.0000       DAWG    32768  10000     LRLog       wiki  \n",
       "33  1567470.0  626990.0000       DAWG   262144  10000     LRLog       wiki  \n",
       "34  1567470.0  527991.0000       DAWG  2097152  10000     LRLog       wiki  \n",
       "35  1567470.0  517105.0000       DAWG  4560699  10000     LRLog       wiki  \n",
       "36   651446.0  306563.0000  IncNgTrie      512  10000  SynthLog       wiki  \n",
       "37   651446.0   66495.3000  IncNgTrie     4096  10000  SynthLog       wiki  \n",
       "38   651446.0    8786.6300  IncNgTrie    32768  10000  SynthLog       wiki  \n",
       "39   651446.0     498.4460  IncNgTrie   262144  10000  SynthLog       wiki  \n",
       "40   651446.0      55.1136  IncNgTrie  2097152  10000  SynthLog       wiki  \n",
       "41   651446.0      44.0800  IncNgTrie  4560699  10000  SynthLog       wiki  \n",
       "42  1567470.0  329995.0000  IncNgTrie      512  10000     LRLog       wiki  \n",
       "43  1567470.0   82498.6000  IncNgTrie     4096  10000     LRLog       wiki  \n",
       "44  1567470.0   10919.6000  IncNgTrie    32768  10000     LRLog       wiki  \n",
       "45  1567470.0     492.8680  IncNgTrie   262144  10000     LRLog       wiki  \n",
       "46  1567470.0      56.2895  IncNgTrie  2097152  10000     LRLog       wiki  \n",
       "47  1567470.0      54.8537  IncNgTrie  4560699  10000     LRLog       wiki  "
      ]
     },
     "execution_count": 15,
     "metadata": {},
     "output_type": "execute_result"
    }
   ],
   "source": [
    "wiki_csize_df"
   ]
  },
  {
   "cell_type": "code",
   "execution_count": 16,
   "metadata": {
    "ExecuteTime": {
     "end_time": "2020-08-12T13:06:29.264360Z",
     "start_time": "2020-08-12T13:06:29.224192Z"
    }
   },
   "outputs": [],
   "source": [
    "# wiki_csize_df['nbytes'] = wiki_bytes\n",
    "# bing_csize_df['nbytes'] = bing_bytes\n",
    "# cweb_csize_df['nbytes'] = cweb_bytes"
   ]
  },
  {
   "cell_type": "code",
   "execution_count": 17,
   "metadata": {
    "ExecuteTime": {
     "end_time": "2020-08-12T13:06:29.569232Z",
     "start_time": "2020-08-12T13:06:29.353627Z"
    }
   },
   "outputs": [],
   "source": [
    "combined_qtime_csize = wiki_csize_df.append(cweb_csize_df,\n",
    "                         ignore_index=True).append(\n",
    "                         bing_csize_df, ignore_index=True)"
   ]
  },
  {
   "cell_type": "code",
   "execution_count": 18,
   "metadata": {
    "ExecuteTime": {
     "end_time": "2020-08-12T13:06:29.665162Z",
     "start_time": "2020-08-12T13:06:29.587238Z"
    }
   },
   "outputs": [],
   "source": [
    "def total_query_time(query_df, collection):\n",
    "    total_qtime = query_df[(query_df.nrows == query_df.nrows.max()) \\\n",
    "              & (query_df.log_type == 'SynthLog')][['qac_impl', 'cpu_time', 'NComp', \n",
    "                                                    'CompBytesRate', 'PQBytesRate']]\n",
    "\n",
    "    if collection == \"wiki\":\n",
    "        total_bytes = 1.118900e+08\n",
    "    elif collection == \"bing\":\n",
    "        total_bytes = 3.173030e+08\n",
    "    elif collection == \"cweb\":\n",
    "        total_bytes = 3.494550e+09\n",
    "    else :\n",
    "        raise valueError(\"Invald collection\")\n",
    "   \n",
    "    \n",
    "    print(total_qtime)\n",
    "    \n"
   ]
  },
  {
   "cell_type": "code",
   "execution_count": 19,
   "metadata": {
    "ExecuteTime": {
     "end_time": "2020-08-12T13:06:29.759935Z",
     "start_time": "2020-08-12T13:06:29.685878Z"
    }
   },
   "outputs": [
    {
     "name": "stdout",
     "output_type": "stream",
     "text": [
      "     qac_impl     cpu_time   NComp  CompBytesRate  PQBytesRate\n",
      "5       HTrie    743.15600  263759       5748.610      876.594\n",
      "17     Marisa    362.07800  263952      11778.700     1799.190\n",
      "29       DAWG      1.57812  233568    2398840.000   412797.000\n",
      "41  IncNgTrie  14778.70000  319711        340.969       44.080\n"
     ]
    }
   ],
   "source": [
    "total_query_time(wiki_csize_df, \"wiki\")"
   ]
  },
  {
   "cell_type": "code",
   "execution_count": 20,
   "metadata": {
    "ExecuteTime": {
     "end_time": "2020-08-12T13:06:29.797980Z",
     "start_time": "2020-08-12T13:06:29.768297Z"
    }
   },
   "outputs": [
    {
     "name": "stdout",
     "output_type": "stream",
     "text": [
      "     qac_impl     cpu_time   NComp  CompBytesRate  PQBytesRate\n",
      "5       HTrie    743.15600  263759       5748.610      876.594\n",
      "17     Marisa    362.07800  263952      11778.700     1799.190\n",
      "29       DAWG      1.57812  233568    2398840.000   412797.000\n",
      "41  IncNgTrie  14778.70000  319711        340.969       44.080\n"
     ]
    }
   ],
   "source": [
    "total_query_time(wiki_csize_df, \"wiki\")"
   ]
  },
  {
   "cell_type": "code",
   "execution_count": 21,
   "metadata": {
    "ExecuteTime": {
     "end_time": "2020-08-12T13:06:29.844402Z",
     "start_time": "2020-08-12T13:06:29.807817Z"
    }
   },
   "outputs": [
    {
     "name": "stdout",
     "output_type": "stream",
     "text": [
      "     qac_impl     cpu_time   NComp  CompBytesRate  PQBytesRate\n",
      "5       HTrie    540.01600  305096       9523.760    1167.0200\n",
      "17     Marisa    397.18800  305252      12756.300    1586.6800\n",
      "29       DAWG      1.60938  270776    2816940.000  391587.0000\n",
      "41  IncNgTrie  10931.00000  367740        556.025      57.6533\n"
     ]
    }
   ],
   "source": [
    "total_query_time(bing_csize_df, \"bing\")"
   ]
  },
  {
   "cell_type": "code",
   "execution_count": 22,
   "metadata": {
    "ExecuteTime": {
     "end_time": "2020-08-12T13:06:29.927948Z",
     "start_time": "2020-08-12T13:06:29.910018Z"
    }
   },
   "outputs": [
    {
     "data": {
      "text/plain": [
       "array([      512,      4096,     32768,    262144,   2097152,  16777216,\n",
       "       125000000])"
      ]
     },
     "execution_count": 22,
     "metadata": {},
     "output_type": "execute_result"
    }
   ],
   "source": [
    "cweb_csize_df.nrows.unique()"
   ]
  },
  {
   "cell_type": "code",
   "execution_count": 23,
   "metadata": {
    "ExecuteTime": {
     "end_time": "2020-08-12T13:06:29.962636Z",
     "start_time": "2020-08-12T13:06:29.944538Z"
    }
   },
   "outputs": [
    {
     "data": {
      "text/plain": [
       "Index([u'iterations', u'real_time', u'cpu_time', u'time_unit',\n",
       "       u'CompByesInvRate', u'CompBytesRate', u'NComp', u'NPQ', u'NPQInvRate',\n",
       "       u'NPQRate', u'PQByesInvRate', u'PQBytes', u'PQBytesRate', u'qac_impl',\n",
       "       u'nrows', u'nconv', u'log_type', u'collection'],\n",
       "      dtype='object')"
      ]
     },
     "execution_count": 23,
     "metadata": {},
     "output_type": "execute_result"
    }
   ],
   "source": [
    "cweb_csize_df.columns"
   ]
  },
  {
   "cell_type": "code",
   "execution_count": 24,
   "metadata": {
    "ExecuteTime": {
     "end_time": "2020-08-12T13:06:32.683398Z",
     "start_time": "2020-08-12T13:06:29.972036Z"
    }
   },
   "outputs": [
    {
     "name": "stderr",
     "output_type": "stream",
     "text": [
      "/Users/uthoombayil/miniconda2/lib/python2.7/site-packages/pandas/core/generic.py:4401: SettingWithCopyWarning: \n",
      "A value is trying to be set on a copy of a slice from a DataFrame.\n",
      "Try using .loc[row_indexer,col_indexer] = value instead\n",
      "\n",
      "See the caveats in the documentation: http://pandas.pydata.org/pandas-docs/stable/indexing.html#indexing-view-versus-copy\n",
      "  self[name] = value\n"
     ]
    },
    {
     "data": {
      "image/png": "[encoded data removed]",
      "text/plain": [
       "<Figure size 842.4x595.44 with 1 Axes>"
      ]
     },
     "metadata": {},
     "output_type": "display_data"
    }
   ],
   "source": [
    "sliced_df = combined_qtime_csize[(combined_qtime_csize.log_type==\"SynthLog\")\n",
    "                                  & (combined_qtime_csize.nrows <= bing_csize_df.nrows.max())   \n",
    "                                ]\n",
    "sliced_df.PQBytesRate = sliced_df.PQBytesRate / sliced_df.nrows\n",
    "ax = sns.boxplot(x=\"qac_impl\", y=\"PQBytesRate\", data=sliced_df, hue=\"collection\")\n",
    "plt.yscale('log')"
   ]
  },
  {
   "cell_type": "markdown",
   "metadata": {},
   "source": [
    "## Number of completions"
   ]
  },
  {
   "cell_type": "code",
   "execution_count": 25,
   "metadata": {
    "ExecuteTime": {
     "end_time": "2020-08-12T13:06:32.749412Z",
     "start_time": "2020-08-12T13:06:32.692098Z"
    }
   },
   "outputs": [
    {
     "data": {
      "text/plain": [
       "qac_impl   log_type  collection\n",
       "DAWG       LRLog     bing          548968\n",
       "                     cweb          519500\n",
       "                     wiki          464782\n",
       "           SynthLog  bing          270776\n",
       "                     cweb          262903\n",
       "                     wiki          233568\n",
       "HTrie      LRLog     bing          617699\n",
       "                     cweb          588809\n",
       "                     wiki          525867\n",
       "           SynthLog  bing          305096\n",
       "                     cweb          298221\n",
       "                     wiki          263759\n",
       "IncNgTrie  LRLog     bing          734756\n",
       "                     cweb          623134\n",
       "                     wiki          631211\n",
       "           SynthLog  bing          367740\n",
       "                     cweb          348595\n",
       "                     wiki          319711\n",
       "Marisa     LRLog     bing          618285\n",
       "                     cweb          589149\n",
       "                     wiki          526360\n",
       "           SynthLog  bing          305252\n",
       "                     cweb          298095\n",
       "                     wiki          263952\n",
       "Name: NComp, dtype: int64"
      ]
     },
     "execution_count": 25,
     "metadata": {},
     "output_type": "execute_result"
    }
   ],
   "source": [
    "combined_qtime_csize.groupby(['qac_impl', 'log_type', 'collection'])['NComp'].max()"
   ]
  },
  {
   "cell_type": "code",
   "execution_count": 26,
   "metadata": {
    "ExecuteTime": {
     "end_time": "2020-08-12T13:06:33.319874Z",
     "start_time": "2020-08-12T13:06:32.757278Z"
    },
    "scrolled": false
   },
   "outputs": [
    {
     "data": {
      "image/png": "[encoded data removed]",
      "text/plain": [
       "<Figure size 842.4x595.44 with 1 Axes>"
      ]
     },
     "metadata": {},
     "output_type": "display_data"
    }
   ],
   "source": [
    "comb_filter = combined_qtime_csize[((combined_qtime_csize.log_type == \"LRLog\") & \n",
    "                                     (combined_qtime_csize.collection !=\"bing\"))       \n",
    "                                    | \n",
    "                                   ((combined_qtime_csize.collection==\"bing\") &\n",
    "                                   (combined_qtime_csize.log_type==\"SynthLog\"))]\n",
    "#                                   & (combined_qtime_csize.nrows <= bing_csize_df.nrows.max())]\n",
    "# comb_filter = combined_qtime_csize[(combined_qtime_csize.log_type == \"LRLog\") ]\n",
    "# (combined_qtime_csize.nrows <= bing_csize_df.nrows.max())\n",
    "comb_filter.PQBytesRate = comb_filter.PQBytesRate / comb_filter.nrows\n",
    "ax = sns.boxplot(x=\"qac_impl\", y=\"PQBytesRate\", data=comb_filter, hue=\"collection\")\n",
    "#plt.yscale('log')"
   ]
  },
  {
   "cell_type": "code",
   "execution_count": 27,
   "metadata": {
    "ExecuteTime": {
     "end_time": "2020-08-12T13:06:35.181010Z",
     "start_time": "2020-08-12T13:06:33.336090Z"
    }
   },
   "outputs": [
    {
     "data": {
      "image/png": "[encoded data removed]",
      "text/plain": [
       "<Figure size 842.4x595.44 with 2 Axes>"
      ]
     },
     "metadata": {},
     "output_type": "display_data"
    }
   ],
   "source": [
    "fig, ax = plt.subplots(1, 2, sharey=True)\n",
    "sns.boxplot(x=\"qac_impl\", y=\"PQBytesRate\", data=sliced_df, hue=\"collection\", ax=ax[0])\n",
    "sns.boxplot(x=\"qac_impl\", y=\"PQBytesRate\", data=comb_filter, hue=\"collection\", ax=ax[1])\n",
    "plt.yscale('log')"
   ]
  },
  {
   "cell_type": "markdown",
   "metadata": {},
   "source": [
    "# Query time $\\mid P \\mid $ benchmarks"
   ]
  },
  {
   "cell_type": "code",
   "execution_count": 28,
   "metadata": {
    "ExecuteTime": {
     "end_time": "2020-08-12T13:06:35.222556Z",
     "start_time": "2020-08-12T13:06:35.194076Z"
    }
   },
   "outputs": [],
   "source": [
    "class QACImpl : \n",
    "    htrie = 'HTrie'\n",
    "    marisa = 'Marisa'\n",
    "    dawg = 'DAWG'\n",
    "    incngt = 'IncNgTrie'\n",
    "\n",
    "    @staticmethod\n",
    "    def qac_impl_list():\n",
    "        return [QACImpl.htrie, QACImpl.marisa, QACImpl.dawg, QACImpl.incngt]"
   ]
  },
  {
   "cell_type": "code",
   "execution_count": 29,
   "metadata": {
    "ExecuteTime": {
     "end_time": "2020-08-12T13:06:35.376535Z",
     "start_time": "2020-08-12T13:06:35.234926Z"
    }
   },
   "outputs": [],
   "source": [
    "def map_qac_impl(s):\n",
    "    for qimpl in QACImpl.qac_impl_list():\n",
    "        if qimpl in s: \n",
    "            return qimpl\n",
    "def load_qtime_df(filename, collection, convert_units=True):\n",
    "    query_df = pd.read_csv(filename, index_col=None)\n",
    "    name_split = query_df.name.str.split('/')\n",
    "    \n",
    "    qac_impl = name_split.apply(lambda x: x[1])\n",
    "    coll_size = name_split.apply(lambda x: int(x[2]))\n",
    "    pqlog_nconv = name_split.apply(lambda x: int(x[3]))\n",
    "    log_type = name_split.apply(lambda x: x[4])\n",
    "    log_type.replace('108', 'LRLog', inplace=True)\n",
    "    log_type.replace('115', 'SynthLog', inplace=True)\n",
    "\n",
    "    \n",
    "    query_df['qac_impl'] = qac_impl\n",
    "    query_df['nrows'] = coll_size\n",
    "    query_df['nconv'] = pqlog_nconv\n",
    "    query_df['log_type'] = log_type\n",
    "    query_df['collection'] = collection\n",
    "    \n",
    "    query_df.drop(['name','bytes_per_second','items_per_second',\n",
    "                   'label','error_occurred','error_message'], axis=1, inplace=True)\n",
    "\n",
    "    query_df.qac_impl = query_df.qac_impl.apply(lambda x: map_qac_impl(x))\n",
    "    \n",
    "    if convert_units:\n",
    "        if len(query_df.time_unit.unique()) > 1:\n",
    "            raise ValueError('Mixed time units')\n",
    "        time_unit = query_df.time_unit.unique()[0]\n",
    "        if time_unit == 'ms':\n",
    "            query_df.cpu_time = query_df.cpu_time/(10**3)  # ns to s\n",
    "            query_df.real_time = query_df.real_time/(10**3)\n",
    "        else:\n",
    "            raise ValueError('Unrecognised time unit')\n",
    "    \n",
    "    return query_df"
   ]
  },
  {
   "cell_type": "code",
   "execution_count": 30,
   "metadata": {
    "ExecuteTime": {
     "end_time": "2020-08-12T13:06:35.475408Z",
     "start_time": "2020-08-12T13:06:35.389479Z"
    },
    "scrolled": true
   },
   "outputs": [],
   "source": [
    "wiki_qtime_df = load_qtime_df('../../export/data/query-plen/wiki-query-times.csv', 'wiki')\n",
    "bing_qtime_df = load_qtime_df('../../export/data/query-plen/bing-query-times.csv', 'bing')\n",
    "cweb_qtime_df = load_qtime_df('../../export/data/query-plen/cweb-query-times.csv', 'cweb')"
   ]
  },
  {
   "cell_type": "code",
   "execution_count": 31,
   "metadata": {
    "ExecuteTime": {
     "end_time": "2020-08-12T13:06:35.531323Z",
     "start_time": "2020-08-12T13:06:35.480475Z"
    }
   },
   "outputs": [
    {
     "data": {
      "text/html": [
       "<div>\n",
       "<style scoped>\n",
       "    .dataframe tbody tr th:only-of-type {\n",
       "        vertical-align: middle;\n",
       "    }\n",
       "\n",
       "    .dataframe tbody tr th {\n",
       "        vertical-align: top;\n",
       "    }\n",
       "\n",
       "    .dataframe thead th {\n",
       "        text-align: right;\n",
       "    }\n",
       "</style>\n",
       "<table border=\"1\" class=\"dataframe\">\n",
       "  <thead>\n",
       "    <tr style=\"text-align: right;\">\n",
       "      <th></th>\n",
       "      <th>iterations</th>\n",
       "      <th>real_time</th>\n",
       "      <th>cpu_time</th>\n",
       "      <th>time_unit</th>\n",
       "      <th>CompByesInvRate</th>\n",
       "      <th>CompBytesRate</th>\n",
       "      <th>NComp</th>\n",
       "      <th>NPQ</th>\n",
       "      <th>NPQInvRate</th>\n",
       "      <th>NPQRate</th>\n",
       "      <th>PQByesInvRate</th>\n",
       "      <th>PQBytes</th>\n",
       "      <th>PQBytesRate</th>\n",
       "      <th>qac_impl</th>\n",
       "      <th>nrows</th>\n",
       "      <th>nconv</th>\n",
       "      <th>log_type</th>\n",
       "      <th>collection</th>\n",
       "    </tr>\n",
       "  </thead>\n",
       "  <tbody>\n",
       "    <tr>\n",
       "      <th>0</th>\n",
       "      <td>1</td>\n",
       "      <td>1472.30000</td>\n",
       "      <td>1471.30000</td>\n",
       "      <td>ms</td>\n",
       "      <td>3.230950e-04</td>\n",
       "      <td>3095.070</td>\n",
       "      <td>282018</td>\n",
       "      <td>66885</td>\n",
       "      <td>0.022013</td>\n",
       "      <td>45.42880</td>\n",
       "      <td>0.002260</td>\n",
       "      <td>651446.0</td>\n",
       "      <td>442.4670</td>\n",
       "      <td>HTrie</td>\n",
       "      <td>4560699</td>\n",
       "      <td>100000</td>\n",
       "      <td>SynthLog</td>\n",
       "      <td>wiki</td>\n",
       "    </tr>\n",
       "    <tr>\n",
       "      <th>1</th>\n",
       "      <td>1</td>\n",
       "      <td>2812.47000</td>\n",
       "      <td>2810.25000</td>\n",
       "      <td>ms</td>\n",
       "      <td>3.008890e-04</td>\n",
       "      <td>3323.480</td>\n",
       "      <td>559973</td>\n",
       "      <td>142539</td>\n",
       "      <td>0.019731</td>\n",
       "      <td>50.68100</td>\n",
       "      <td>0.001794</td>\n",
       "      <td>1567470.0</td>\n",
       "      <td>557.3300</td>\n",
       "      <td>HTrie</td>\n",
       "      <td>4560699</td>\n",
       "      <td>100000</td>\n",
       "      <td>LRLog</td>\n",
       "      <td>wiki</td>\n",
       "    </tr>\n",
       "    <tr>\n",
       "      <th>2</th>\n",
       "      <td>1</td>\n",
       "      <td>725.06300</td>\n",
       "      <td>723.95300</td>\n",
       "      <td>ms</td>\n",
       "      <td>1.591130e-04</td>\n",
       "      <td>6284.860</td>\n",
       "      <td>282018</td>\n",
       "      <td>66885</td>\n",
       "      <td>0.010840</td>\n",
       "      <td>92.24720</td>\n",
       "      <td>0.001113</td>\n",
       "      <td>651446.0</td>\n",
       "      <td>898.4680</td>\n",
       "      <td>Marisa</td>\n",
       "      <td>4560699</td>\n",
       "      <td>100000</td>\n",
       "      <td>SynthLog</td>\n",
       "      <td>wiki</td>\n",
       "    </tr>\n",
       "    <tr>\n",
       "      <th>3</th>\n",
       "      <td>1</td>\n",
       "      <td>1432.54000</td>\n",
       "      <td>1430.61000</td>\n",
       "      <td>ms</td>\n",
       "      <td>1.532580e-04</td>\n",
       "      <td>6524.940</td>\n",
       "      <td>559973</td>\n",
       "      <td>142539</td>\n",
       "      <td>0.010050</td>\n",
       "      <td>99.50080</td>\n",
       "      <td>0.000914</td>\n",
       "      <td>1567470.0</td>\n",
       "      <td>1094.1900</td>\n",
       "      <td>Marisa</td>\n",
       "      <td>4560699</td>\n",
       "      <td>100000</td>\n",
       "      <td>LRLog</td>\n",
       "      <td>wiki</td>\n",
       "    </tr>\n",
       "    <tr>\n",
       "      <th>4</th>\n",
       "      <td>1</td>\n",
       "      <td>2.32439</td>\n",
       "      <td>1.51562</td>\n",
       "      <td>ms</td>\n",
       "      <td>5.792440e-07</td>\n",
       "      <td>1726390.000</td>\n",
       "      <td>249437</td>\n",
       "      <td>66885</td>\n",
       "      <td>0.000035</td>\n",
       "      <td>28775.20000</td>\n",
       "      <td>0.000004</td>\n",
       "      <td>651446.0</td>\n",
       "      <td>280265.0000</td>\n",
       "      <td>DAWG</td>\n",
       "      <td>4560699</td>\n",
       "      <td>100000</td>\n",
       "      <td>SynthLog</td>\n",
       "      <td>wiki</td>\n",
       "    </tr>\n",
       "    <tr>\n",
       "      <th>5</th>\n",
       "      <td>1</td>\n",
       "      <td>4.76169</td>\n",
       "      <td>2.92188</td>\n",
       "      <td>ms</td>\n",
       "      <td>5.785830e-07</td>\n",
       "      <td>1728360.000</td>\n",
       "      <td>494965</td>\n",
       "      <td>142539</td>\n",
       "      <td>0.000033</td>\n",
       "      <td>29934.60000</td>\n",
       "      <td>0.000003</td>\n",
       "      <td>1567470.0</td>\n",
       "      <td>329185.0000</td>\n",
       "      <td>DAWG</td>\n",
       "      <td>4560699</td>\n",
       "      <td>100000</td>\n",
       "      <td>LRLog</td>\n",
       "      <td>wiki</td>\n",
       "    </tr>\n",
       "    <tr>\n",
       "      <th>6</th>\n",
       "      <td>1</td>\n",
       "      <td>26920.20000</td>\n",
       "      <td>26912.70000</td>\n",
       "      <td>ms</td>\n",
       "      <td>5.134030e-03</td>\n",
       "      <td>194.779</td>\n",
       "      <td>335315</td>\n",
       "      <td>66885</td>\n",
       "      <td>0.402485</td>\n",
       "      <td>2.48457</td>\n",
       "      <td>0.041324</td>\n",
       "      <td>651446.0</td>\n",
       "      <td>24.1992</td>\n",
       "      <td>IncNgTrie</td>\n",
       "      <td>4560699</td>\n",
       "      <td>100000</td>\n",
       "      <td>SynthLog</td>\n",
       "      <td>wiki</td>\n",
       "    </tr>\n",
       "    <tr>\n",
       "      <th>7</th>\n",
       "      <td>1</td>\n",
       "      <td>54725.60000</td>\n",
       "      <td>54712.30000</td>\n",
       "      <td>ms</td>\n",
       "      <td>5.171510e-03</td>\n",
       "      <td>193.367</td>\n",
       "      <td>660770</td>\n",
       "      <td>142539</td>\n",
       "      <td>0.383934</td>\n",
       "      <td>2.60461</td>\n",
       "      <td>0.034913</td>\n",
       "      <td>1567470.0</td>\n",
       "      <td>28.6424</td>\n",
       "      <td>IncNgTrie</td>\n",
       "      <td>4560699</td>\n",
       "      <td>100000</td>\n",
       "      <td>LRLog</td>\n",
       "      <td>wiki</td>\n",
       "    </tr>\n",
       "  </tbody>\n",
       "</table>\n",
       "</div>"
      ],
      "text/plain": [
       "   iterations    real_time     cpu_time time_unit  CompByesInvRate  \\\n",
       "0           1   1472.30000   1471.30000        ms     3.230950e-04   \n",
       "1           1   2812.47000   2810.25000        ms     3.008890e-04   \n",
       "2           1    725.06300    723.95300        ms     1.591130e-04   \n",
       "3           1   1432.54000   1430.61000        ms     1.532580e-04   \n",
       "4           1      2.32439      1.51562        ms     5.792440e-07   \n",
       "5           1      4.76169      2.92188        ms     5.785830e-07   \n",
       "6           1  26920.20000  26912.70000        ms     5.134030e-03   \n",
       "7           1  54725.60000  54712.30000        ms     5.171510e-03   \n",
       "\n",
       "   CompBytesRate   NComp     NPQ  NPQInvRate      NPQRate  PQByesInvRate  \\\n",
       "0       3095.070  282018   66885    0.022013     45.42880       0.002260   \n",
       "1       3323.480  559973  142539    0.019731     50.68100       0.001794   \n",
       "2       6284.860  282018   66885    0.010840     92.24720       0.001113   \n",
       "3       6524.940  559973  142539    0.010050     99.50080       0.000914   \n",
       "4    1726390.000  249437   66885    0.000035  28775.20000       0.000004   \n",
       "5    1728360.000  494965  142539    0.000033  29934.60000       0.000003   \n",
       "6        194.779  335315   66885    0.402485      2.48457       0.041324   \n",
       "7        193.367  660770  142539    0.383934      2.60461       0.034913   \n",
       "\n",
       "     PQBytes  PQBytesRate   qac_impl    nrows   nconv  log_type collection  \n",
       "0   651446.0     442.4670      HTrie  4560699  100000  SynthLog       wiki  \n",
       "1  1567470.0     557.3300      HTrie  4560699  100000     LRLog       wiki  \n",
       "2   651446.0     898.4680     Marisa  4560699  100000  SynthLog       wiki  \n",
       "3  1567470.0    1094.1900     Marisa  4560699  100000     LRLog       wiki  \n",
       "4   651446.0  280265.0000       DAWG  4560699  100000  SynthLog       wiki  \n",
       "5  1567470.0  329185.0000       DAWG  4560699  100000     LRLog       wiki  \n",
       "6   651446.0      24.1992  IncNgTrie  4560699  100000  SynthLog       wiki  \n",
       "7  1567470.0      28.6424  IncNgTrie  4560699  100000     LRLog       wiki  "
      ]
     },
     "execution_count": 31,
     "metadata": {},
     "output_type": "execute_result"
    }
   ],
   "source": [
    "wiki_qtime_df"
   ]
  },
  {
   "cell_type": "code",
   "execution_count": 32,
   "metadata": {
    "ExecuteTime": {
     "end_time": "2020-08-12T13:06:35.568206Z",
     "start_time": "2020-08-12T13:06:35.546691Z"
    }
   },
   "outputs": [],
   "source": [
    "combined_qtime_df =     wiki_qtime_df.append(\n",
    "                                cweb_qtime_df, ignore_index=True).append(\n",
    "                                bing_qtime_df, ignore_index=True)"
   ]
  },
  {
   "cell_type": "code",
   "execution_count": 34,
   "metadata": {
    "ExecuteTime": {
     "end_time": "2020-08-12T13:07:15.837688Z",
     "start_time": "2020-08-12T13:07:15.748092Z"
    },
    "scrolled": true
   },
   "outputs": [
    {
     "data": {
      "text/html": [
       "<div>\n",
       "<style scoped>\n",
       "    .dataframe tbody tr th:only-of-type {\n",
       "        vertical-align: middle;\n",
       "    }\n",
       "\n",
       "    .dataframe tbody tr th {\n",
       "        vertical-align: top;\n",
       "    }\n",
       "\n",
       "    .dataframe thead th {\n",
       "        text-align: right;\n",
       "    }\n",
       "</style>\n",
       "<table border=\"1\" class=\"dataframe\">\n",
       "  <thead>\n",
       "    <tr style=\"text-align: right;\">\n",
       "      <th></th>\n",
       "      <th>collection</th>\n",
       "      <th>qac_impl</th>\n",
       "      <th>cpu_time</th>\n",
       "      <th>PQBytesRate</th>\n",
       "      <th>NPQ</th>\n",
       "    </tr>\n",
       "  </thead>\n",
       "  <tbody>\n",
       "    <tr>\n",
       "      <th>1</th>\n",
       "      <td>wiki</td>\n",
       "      <td>HTrie</td>\n",
       "      <td>2810.25000</td>\n",
       "      <td>557.33000</td>\n",
       "      <td>142539</td>\n",
       "    </tr>\n",
       "    <tr>\n",
       "      <th>3</th>\n",
       "      <td>wiki</td>\n",
       "      <td>Marisa</td>\n",
       "      <td>1430.61000</td>\n",
       "      <td>1094.19000</td>\n",
       "      <td>142539</td>\n",
       "    </tr>\n",
       "    <tr>\n",
       "      <th>5</th>\n",
       "      <td>wiki</td>\n",
       "      <td>DAWG</td>\n",
       "      <td>2.92188</td>\n",
       "      <td>329185.00000</td>\n",
       "      <td>142539</td>\n",
       "    </tr>\n",
       "    <tr>\n",
       "      <th>7</th>\n",
       "      <td>wiki</td>\n",
       "      <td>IncNgTrie</td>\n",
       "      <td>54712.30000</td>\n",
       "      <td>28.64240</td>\n",
       "      <td>142539</td>\n",
       "    </tr>\n",
       "    <tr>\n",
       "      <th>9</th>\n",
       "      <td>cweb</td>\n",
       "      <td>IncNgTrie</td>\n",
       "      <td>302050.00000</td>\n",
       "      <td>5.12721</td>\n",
       "      <td>141873</td>\n",
       "    </tr>\n",
       "    <tr>\n",
       "      <th>11</th>\n",
       "      <td>cweb</td>\n",
       "      <td>HTrie</td>\n",
       "      <td>22653.90000</td>\n",
       "      <td>68.35750</td>\n",
       "      <td>141873</td>\n",
       "    </tr>\n",
       "    <tr>\n",
       "      <th>13</th>\n",
       "      <td>cweb</td>\n",
       "      <td>Marisa</td>\n",
       "      <td>19320.50000</td>\n",
       "      <td>80.14980</td>\n",
       "      <td>141873</td>\n",
       "    </tr>\n",
       "    <tr>\n",
       "      <th>15</th>\n",
       "      <td>cweb</td>\n",
       "      <td>DAWG</td>\n",
       "      <td>3.40625</td>\n",
       "      <td>289614.00000</td>\n",
       "      <td>141873</td>\n",
       "    </tr>\n",
       "    <tr>\n",
       "      <th>17</th>\n",
       "      <td>bing</td>\n",
       "      <td>HTrie</td>\n",
       "      <td>6924.30000</td>\n",
       "      <td>223.29300</td>\n",
       "      <td>141619</td>\n",
       "    </tr>\n",
       "    <tr>\n",
       "      <th>19</th>\n",
       "      <td>bing</td>\n",
       "      <td>Marisa</td>\n",
       "      <td>4292.84000</td>\n",
       "      <td>360.07900</td>\n",
       "      <td>141619</td>\n",
       "    </tr>\n",
       "    <tr>\n",
       "      <th>21</th>\n",
       "      <td>bing</td>\n",
       "      <td>DAWG</td>\n",
       "      <td>2.95312</td>\n",
       "      <td>312575.00000</td>\n",
       "      <td>141619</td>\n",
       "    </tr>\n",
       "    <tr>\n",
       "      <th>23</th>\n",
       "      <td>bing</td>\n",
       "      <td>IncNgTrie</td>\n",
       "      <td>113118.00000</td>\n",
       "      <td>13.67100</td>\n",
       "      <td>141619</td>\n",
       "    </tr>\n",
       "  </tbody>\n",
       "</table>\n",
       "</div>"
      ],
      "text/plain": [
       "   collection   qac_impl      cpu_time   PQBytesRate     NPQ\n",
       "1        wiki      HTrie    2810.25000     557.33000  142539\n",
       "3        wiki     Marisa    1430.61000    1094.19000  142539\n",
       "5        wiki       DAWG       2.92188  329185.00000  142539\n",
       "7        wiki  IncNgTrie   54712.30000      28.64240  142539\n",
       "9        cweb  IncNgTrie  302050.00000       5.12721  141873\n",
       "11       cweb      HTrie   22653.90000      68.35750  141873\n",
       "13       cweb     Marisa   19320.50000      80.14980  141873\n",
       "15       cweb       DAWG       3.40625  289614.00000  141873\n",
       "17       bing      HTrie    6924.30000     223.29300  141619\n",
       "19       bing     Marisa    4292.84000     360.07900  141619\n",
       "21       bing       DAWG       2.95312  312575.00000  141619\n",
       "23       bing  IncNgTrie  113118.00000      13.67100  141619"
      ]
     },
     "execution_count": 34,
     "metadata": {},
     "output_type": "execute_result"
    }
   ],
   "source": [
    "combined_qtime_df[combined_qtime_df.log_type=='LRLog'][['collection', 'qac_impl', 'cpu_time','PQBytesRate', 'NPQ']]"
   ]
  },
  {
   "cell_type": "code",
   "execution_count": 38,
   "metadata": {
    "ExecuteTime": {
     "end_time": "2020-07-16T05:35:21.323342Z",
     "start_time": "2020-07-16T05:35:21.131666Z"
    }
   },
   "outputs": [
    {
     "data": {
      "image/png": "[encoded data removed]",
      "text/plain": [
       "<Figure size 842.4x595.44 with 1 Axes>"
      ]
     },
     "metadata": {},
     "output_type": "display_data"
    }
   ],
   "source": [
    "qtime_slice = combined_qtime_df[combined_qtime_df.qac_impl == 'HTrie']\n",
    "ax = sns.barplot(x='qac_impl', y='cpu_time', hue='log_type', data=qtime_slice)\n",
    "# ax.set_yscale('log')"
   ]
  },
  {
   "cell_type": "markdown",
   "metadata": {},
   "source": [
    "## Querying time at various lengths of |P|"
   ]
  },
  {
   "cell_type": "code",
   "execution_count": 31,
   "metadata": {
    "ExecuteTime": {
     "end_time": "2020-08-08T16:40:24.955057Z",
     "start_time": "2020-08-08T16:40:24.894268Z"
    }
   },
   "outputs": [],
   "source": [
    "def load_qtime_plen_df(file_name):\n",
    "    qtime_plen_df = pd.read_csv(file_name, header=None)\n",
    "    qtime_plen_df.columns = ['qac_impl', 'plen', 'cpu_time', 'log_type', 'collection']\n",
    "    qtime_plen_df.cpu_time = qtime_plen_df.cpu_time * 1e3 # s to ms\n",
    "    qtime_plen_df.log_type = qtime_plen_df.log_type.map({115:'SynthLog', 108:'LRLog'})\n",
    "    qtime_plen_df.qac_impl = qtime_plen_df.qac_impl.apply(lambda x: map_qac_impl(x))\n",
    "    return qtime_plen_df\n"
   ]
  },
  {
   "cell_type": "code",
   "execution_count": 33,
   "metadata": {
    "ExecuteTime": {
     "end_time": "2020-08-08T16:41:03.364242Z",
     "start_time": "2020-08-08T16:40:57.226112Z"
    }
   },
   "outputs": [],
   "source": [
    "wiki_qtime_plen_df = load_qtime_plen_df('../../export/data/query-plen/wiki-plen-qtime.csv')\n",
    "cweb_qtime_plen_df = load_qtime_plen_df('../../export/data/query-plen/cweb-plen-qtime.csv')\n",
    "bing_qtime_plen_df = load_qtime_plen_df('../../export/data/query-plen/bing-plen-qtime.csv')"
   ]
  },
  {
   "cell_type": "code",
   "execution_count": 34,
   "metadata": {
    "ExecuteTime": {
     "end_time": "2020-08-08T16:41:43.764798Z",
     "start_time": "2020-08-08T16:41:42.532596Z"
    }
   },
   "outputs": [],
   "source": [
    "combined_qtime_plen_df = wiki_qtime_plen_df.append(\n",
    "                        cweb_qtime_plen_df, ignore_index=True).append(\n",
    "                        bing_qtime_plen_df, ignore_index=True)"
   ]
  },
  {
   "cell_type": "code",
   "execution_count": 42,
   "metadata": {
    "ExecuteTime": {
     "end_time": "2020-08-09T06:13:57.356494Z",
     "start_time": "2020-08-09T06:13:57.291216Z"
    },
    "code_folding": []
   },
   "outputs": [],
   "source": [
    "def norm_plen_qtime(combined_qtime_plen_df, combined_qtime_df):\n",
    "    \"\"\" Normalise the cpu_time in combined_qtime_plen_df with the curresponding\n",
    "    total for the collection, qac_impl and log from combined_qtime_df.\"\"\"\n",
    "    for coll in combined_qtime_df.collection.unique():\n",
    "        for lt in combined_qtime_df.log_type.unique():\n",
    "            for qac_impl in combined_qtime_df.qac_impl:\n",
    "                max_qtime = combined_qtime_df[\n",
    "                                    (combined_qtime_df.qac_impl == qac_impl)\n",
    "                                    & (combined_qtime_df.collection == coll)\n",
    "                                    & (combined_qtime_df.log_type == lt)\n",
    "                                    ][ 'cpu_time'].max()\n",
    "                mask = (combined_qtime_plen_df.qac_impl == qac_impl)\\\n",
    "                   & (combined_qtime_plen_df.collection == coll)\\\n",
    "                   & (combined_qtime_plen_df.log_type)\n",
    "                combined_qtime_plen_df.loc[\n",
    "                    mask, 'normed_cpu_time'] = combined_qtime_plen_df[\n",
    "                                                    mask]['cpu_time']/max_qtime\n",
    "    \n"
   ]
  },
  {
   "cell_type": "code",
   "execution_count": 94,
   "metadata": {
    "ExecuteTime": {
     "end_time": "2020-08-10T17:41:35.206688Z",
     "start_time": "2020-08-10T17:39:51.660211Z"
    }
   },
   "outputs": [],
   "source": [
    "qac_impl = 'Marisa'\n",
    "norm_plen_qtime(combined_qtime_plen_df, combined_qtime_df)"
   ]
  },
  {
   "cell_type": "code",
   "execution_count": 95,
   "metadata": {
    "ExecuteTime": {
     "end_time": "2020-08-10T17:41:43.541452Z",
     "start_time": "2020-08-10T17:41:43.259398Z"
    }
   },
   "outputs": [],
   "source": [
    "sliced_plendf = combined_qtime_plen_df[(combined_qtime_plen_df.qac_impl == qac_impl)]"
   ]
  },
  {
   "cell_type": "code",
   "execution_count": 50,
   "metadata": {
    "ExecuteTime": {
     "end_time": "2020-08-09T06:17:30.952632Z",
     "start_time": "2020-08-09T06:17:28.923261Z"
    },
    "scrolled": false
   },
   "outputs": [
    {
     "data": {
      "image/png": "[encoded data removed]",
      "text/plain": [
       "<Figure size 842.4x595.44 with 1 Axes>"
      ]
     },
     "metadata": {},
     "output_type": "display_data"
    }
   ],
   "source": [
    "sns.boxplot(x='collection', y='cpu_time', data=sliced_plendf, hue='log_type')\n",
    "plt.yscale('log')"
   ]
  },
  {
   "cell_type": "code",
   "execution_count": 96,
   "metadata": {
    "ExecuteTime": {
     "end_time": "2020-08-10T17:41:51.773538Z",
     "start_time": "2020-08-10T17:41:51.546283Z"
    }
   },
   "outputs": [],
   "source": [
    "qac_impl = 'Marisa'\n",
    "sliced_plendf = combined_qtime_plen_df[(combined_qtime_plen_df.qac_impl == qac_impl)]"
   ]
  },
  {
   "cell_type": "code",
   "execution_count": 97,
   "metadata": {
    "ExecuteTime": {
     "end_time": "2020-08-10T17:41:59.772631Z",
     "start_time": "2020-08-10T17:41:59.687148Z"
    }
   },
   "outputs": [
    {
     "data": {
      "text/plain": [
       "count    198542.000000\n",
       "mean         64.071057\n",
       "std         282.896610\n",
       "min           0.000500\n",
       "25%           0.002500\n",
       "50%           0.022000\n",
       "75%           2.854300\n",
       "max        2939.130000\n",
       "Name: cpu_time, dtype: float64"
      ]
     },
     "execution_count": 97,
     "metadata": {},
     "output_type": "execute_result"
    }
   ],
   "source": [
    "sliced_plendf[sliced_plendf.log_type == 'SynthLog']['cpu_time'].describe()"
   ]
  },
  {
   "cell_type": "code",
   "execution_count": 98,
   "metadata": {
    "ExecuteTime": {
     "end_time": "2020-08-10T17:42:08.370685Z",
     "start_time": "2020-08-10T17:42:08.234216Z"
    }
   },
   "outputs": [
    {
     "data": {
      "text/plain": [
       "count    426031.000000\n",
       "mean         58.767846\n",
       "std         270.840914\n",
       "min           0.000500\n",
       "25%           0.002000\n",
       "50%           0.009800\n",
       "75%           1.762200\n",
       "max        3031.820000\n",
       "Name: cpu_time, dtype: float64"
      ]
     },
     "execution_count": 98,
     "metadata": {},
     "output_type": "execute_result"
    }
   ],
   "source": [
    "sliced_plendf[sliced_plendf.log_type == 'LRLog']['cpu_time'].describe()"
   ]
  },
  {
   "cell_type": "code",
   "execution_count": 58,
   "metadata": {
    "ExecuteTime": {
     "end_time": "2020-08-09T09:51:25.156558Z",
     "start_time": "2020-08-09T09:50:24.208685Z"
    }
   },
   "outputs": [
    {
     "data": {
      "text/plain": [
       "(0, 64)"
      ]
     },
     "execution_count": 58,
     "metadata": {},
     "output_type": "execute_result"
    },
    {
     "data": {
      "image/png": "[encoded data removed]",
      "text/plain": [
       "<Figure size 842.4x595.44 with 1 Axes>"
      ]
     },
     "metadata": {},
     "output_type": "display_data"
    }
   ],
   "source": [
    "sliced_df = combined_qtime_plen_df[(combined_qtime_plen_df.qac_impl == qac_impl)]\n",
    "ax = sns.lineplot(x='plen', y='cpu_time', hue='collection', style='log_type', data=sliced_df,\n",
    "                  marker='o', markevery=4, alpha=.6, estimator=np.median)\n",
    "\n",
    "plt.yscale('log', basey=2)\n",
    "# plt.xscale('log', basex=2)\n",
    "ax.set_xlim([0,64])"
   ]
  },
  {
   "cell_type": "code",
   "execution_count": 71,
   "metadata": {
    "ExecuteTime": {
     "end_time": "2020-08-09T10:18:03.493633Z",
     "start_time": "2020-08-09T10:18:03.288458Z"
    }
   },
   "outputs": [
    {
     "name": "stderr",
     "output_type": "stream",
     "text": [
      "/Users/uthoombayil/miniconda2/lib/python2.7/site-packages/ipykernel_launcher.py:1: SettingWithCopyWarning: \n",
      "A value is trying to be set on a copy of a slice from a DataFrame.\n",
      "Try using .loc[row_indexer,col_indexer] = value instead\n",
      "\n",
      "See the caveats in the documentation: http://pandas.pydata.org/pandas-docs/stable/indexing.html#indexing-view-versus-copy\n",
      "  \"\"\"Entry point for launching an IPython kernel.\n"
     ]
    }
   ],
   "source": [
    "sliced_plendf['plengroup'] = pd.qcut(sliced_plendf['plen'], 5)"
   ]
  },
  {
   "cell_type": "code",
   "execution_count": 72,
   "metadata": {
    "ExecuteTime": {
     "end_time": "2020-08-09T10:18:24.779882Z",
     "start_time": "2020-08-09T10:18:24.423963Z"
    }
   },
   "outputs": [
    {
     "name": "stderr",
     "output_type": "stream",
     "text": [
      "/Users/uthoombayil/miniconda2/lib/python2.7/site-packages/ipykernel_launcher.py:2: SettingWithCopyWarning: \n",
      "A value is trying to be set on a copy of a slice from a DataFrame.\n",
      "Try using .loc[row_indexer,col_indexer] = value instead\n",
      "\n",
      "See the caveats in the documentation: http://pandas.pydata.org/pandas-docs/stable/indexing.html#indexing-view-versus-copy\n",
      "  \n"
     ]
    }
   ],
   "source": [
    "sliced_plendf_coll = sliced_df[sliced_df.collection=='wiki']\n",
    "sliced_plendf_coll['plengroup'] = pd.qcut(sliced_plendf_coll['plen'], 5)"
   ]
  },
  {
   "cell_type": "code",
   "execution_count": 73,
   "metadata": {
    "ExecuteTime": {
     "end_time": "2020-08-09T10:18:40.110515Z",
     "start_time": "2020-08-09T10:18:39.092912Z"
    }
   },
   "outputs": [
    {
     "data": {
      "image/png": "[encoded data removed]",
      "text/plain": [
       "<Figure size 842.4x595.44 with 1 Axes>"
      ]
     },
     "metadata": {},
     "output_type": "display_data"
    }
   ],
   "source": [
    "sns.boxplot(x=\"plengroup\", y=\"cpu_time\", hue=\"log_type\",\n",
    "                 data=sliced_plendf_coll)\n",
    "plt.yscale('log')"
   ]
  },
  {
   "cell_type": "code",
   "execution_count": null,
   "metadata": {},
   "outputs": [],
   "source": []
  },
  {
   "cell_type": "code",
   "execution_count": 75,
   "metadata": {
    "ExecuteTime": {
     "end_time": "2020-08-09T17:42:49.556292Z",
     "start_time": "2020-08-09T17:42:49.512311Z"
    }
   },
   "outputs": [
    {
     "data": {
      "text/plain": [
       "3463530.0"
      ]
     },
     "execution_count": 75,
     "metadata": {},
     "output_type": "execute_result"
    }
   ],
   "source": [
    "3.46353e+06"
   ]
  },
  {
   "cell_type": "code",
   "execution_count": null,
   "metadata": {},
   "outputs": [],
   "source": []
  }
 ],
 "metadata": {
  "kernelspec": {
   "display_name": "Python 2",
   "language": "python",
   "name": "python2"
  },
  "language_info": {
   "codemirror_mode": {
    "name": "ipython",
    "version": 2
   },
   "file_extension": ".py",
   "mimetype": "text/x-python",
   "name": "python",
   "nbconvert_exporter": "python",
   "pygments_lexer": "ipython2",
   "version": "2.7.15"
  },
  "varInspector": {
   "cols": {
    "lenName": 16,
    "lenType": 16,
    "lenVar": 40
   },
   "kernels_config": {
    "python": {
     "delete_cmd_postfix": "",
     "delete_cmd_prefix": "del ",
     "library": "var_list.py",
     "varRefreshCmd": "print(var_dic_list())"
    },
    "r": {
     "delete_cmd_postfix": ") ",
     "delete_cmd_prefix": "rm(",
     "library": "var_list.r",
     "varRefreshCmd": "cat(var_dic_list()) "
    }
   },
   "types_to_exclude": [
    "module",
    "function",
    "builtin_function_or_method",
    "instance",
    "_Feature"
   ],
   "window_display": false
  }
 },
 "nbformat": 4,
 "nbformat_minor": 2
}
